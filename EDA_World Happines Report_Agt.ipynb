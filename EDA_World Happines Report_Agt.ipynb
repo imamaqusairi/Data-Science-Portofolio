{
 "cells": [
  {
   "cell_type": "markdown",
   "id": "dde594a1",
   "metadata": {},
   "source": [
    "# World Happiness Report 2021 - Beginner Exploratory Data Analysis\n",
    "\n",
    "**Dataset Source** \n",
    "https://www.kaggle.com/datasets/ajaypalsinghlo/world-happiness-report-2021\n",
    "\n",
    "**Context**\n",
    "This Dataset consist information about hapiness indicator measured in each country. Several indicators that provided dataset is GDP, Healthy Life Expectancy and Perceptions of Corruption. \n",
    "\n",
    "**Oultine**\n",
    "- Import Module\n",
    "- Load Dataset\n",
    "- Get To Know Data\n",
    "- Get Insight by Data Visualization\n",
    "    - Univariate Analysis\n",
    "    - Bivariate Analysis"
   ]
  },
  {
   "cell_type": "markdown",
   "id": "cb934be1",
   "metadata": {},
   "source": [
    "### Import Module"
   ]
  },
  {
   "cell_type": "code",
   "execution_count": 1,
   "id": "d6d6476e",
   "metadata": {},
   "outputs": [],
   "source": [
    "import pandas as pd\n",
    "import numpy as np \n",
    "import matplotlib.pyplot as plt\n",
    "import seaborn as sns\n",
    "%matplotlib inline"
   ]
  },
  {
   "cell_type": "markdown",
   "id": "8c260061",
   "metadata": {},
   "source": [
    "### Load Dataset"
   ]
  },
  {
   "cell_type": "code",
   "execution_count": 2,
   "id": "c5b5bea6",
   "metadata": {
    "scrolled": false
   },
   "outputs": [
    {
     "data": {
      "text/html": [
       "<div>\n",
       "<style scoped>\n",
       "    .dataframe tbody tr th:only-of-type {\n",
       "        vertical-align: middle;\n",
       "    }\n",
       "\n",
       "    .dataframe tbody tr th {\n",
       "        vertical-align: top;\n",
       "    }\n",
       "\n",
       "    .dataframe thead th {\n",
       "        text-align: right;\n",
       "    }\n",
       "</style>\n",
       "<table border=\"1\" class=\"dataframe\">\n",
       "  <thead>\n",
       "    <tr style=\"text-align: right;\">\n",
       "      <th></th>\n",
       "      <th>Country name</th>\n",
       "      <th>Regional indicator</th>\n",
       "      <th>Logged GDP per capita</th>\n",
       "      <th>Social support</th>\n",
       "      <th>Healthy life expectancy</th>\n",
       "      <th>Freedom to make life choices</th>\n",
       "      <th>Perceptions of corruption</th>\n",
       "    </tr>\n",
       "  </thead>\n",
       "  <tbody>\n",
       "    <tr>\n",
       "      <th>0</th>\n",
       "      <td>Finland</td>\n",
       "      <td>Western Europe</td>\n",
       "      <td>10.775</td>\n",
       "      <td>0.954</td>\n",
       "      <td>72.0</td>\n",
       "      <td>0.949</td>\n",
       "      <td>0.186</td>\n",
       "    </tr>\n",
       "    <tr>\n",
       "      <th>1</th>\n",
       "      <td>Denmark</td>\n",
       "      <td>Western Europe</td>\n",
       "      <td>10.933</td>\n",
       "      <td>0.954</td>\n",
       "      <td>72.7</td>\n",
       "      <td>0.946</td>\n",
       "      <td>0.179</td>\n",
       "    </tr>\n",
       "    <tr>\n",
       "      <th>2</th>\n",
       "      <td>Switzerland</td>\n",
       "      <td>Western Europe</td>\n",
       "      <td>11.117</td>\n",
       "      <td>0.942</td>\n",
       "      <td>74.4</td>\n",
       "      <td>0.919</td>\n",
       "      <td>0.292</td>\n",
       "    </tr>\n",
       "    <tr>\n",
       "      <th>3</th>\n",
       "      <td>Iceland</td>\n",
       "      <td>Western Europe</td>\n",
       "      <td>10.878</td>\n",
       "      <td>0.983</td>\n",
       "      <td>73.0</td>\n",
       "      <td>0.955</td>\n",
       "      <td>0.673</td>\n",
       "    </tr>\n",
       "    <tr>\n",
       "      <th>4</th>\n",
       "      <td>Netherlands</td>\n",
       "      <td>Western Europe</td>\n",
       "      <td>10.932</td>\n",
       "      <td>0.942</td>\n",
       "      <td>72.4</td>\n",
       "      <td>0.913</td>\n",
       "      <td>0.338</td>\n",
       "    </tr>\n",
       "  </tbody>\n",
       "</table>\n",
       "</div>"
      ],
      "text/plain": [
       "  Country name Regional indicator  Logged GDP per capita  Social support  \\\n",
       "0      Finland     Western Europe                 10.775           0.954   \n",
       "1      Denmark     Western Europe                 10.933           0.954   \n",
       "2  Switzerland     Western Europe                 11.117           0.942   \n",
       "3      Iceland     Western Europe                 10.878           0.983   \n",
       "4  Netherlands     Western Europe                 10.932           0.942   \n",
       "\n",
       "   Healthy life expectancy  Freedom to make life choices  \\\n",
       "0                     72.0                         0.949   \n",
       "1                     72.7                         0.946   \n",
       "2                     74.4                         0.919   \n",
       "3                     73.0                         0.955   \n",
       "4                     72.4                         0.913   \n",
       "\n",
       "   Perceptions of corruption  \n",
       "0                      0.186  \n",
       "1                      0.179  \n",
       "2                      0.292  \n",
       "3                      0.673  \n",
       "4                      0.338  "
      ]
     },
     "execution_count": 2,
     "metadata": {},
     "output_type": "execute_result"
    }
   ],
   "source": [
    "cols = ['Country name','Regional indicator','Logged GDP per capita', 'Healthy life expectancy',\n",
    "       'Social support', 'Perceptions of corruption', 'Freedom to make life choices'] # Selecting only used features for analysis\n",
    "df = pd.read_csv('world-happiness-report-2021.csv', usecols=cols)\n",
    "df.head()"
   ]
  },
  {
   "cell_type": "markdown",
   "id": "d24be6e0",
   "metadata": {},
   "source": [
    "### Get to Know Data "
   ]
  },
  {
   "cell_type": "code",
   "execution_count": 3,
   "id": "de13d3dc",
   "metadata": {
    "scrolled": true
   },
   "outputs": [
    {
     "data": {
      "text/plain": [
       "149"
      ]
     },
     "execution_count": 3,
     "metadata": {},
     "output_type": "execute_result"
    }
   ],
   "source": [
    "df['Country name'].nunique() "
   ]
  },
  {
   "cell_type": "markdown",
   "id": "f83f2d46",
   "metadata": {},
   "source": [
    "There is 149 different country that listed on dataset "
   ]
  },
  {
   "cell_type": "code",
   "execution_count": 4,
   "id": "09ce3abf",
   "metadata": {
    "scrolled": true
   },
   "outputs": [
    {
     "name": "stdout",
     "output_type": "stream",
     "text": [
      "<class 'pandas.core.frame.DataFrame'>\n",
      "RangeIndex: 149 entries, 0 to 148\n",
      "Data columns (total 7 columns):\n",
      " #   Column                        Non-Null Count  Dtype  \n",
      "---  ------                        --------------  -----  \n",
      " 0   Country name                  149 non-null    object \n",
      " 1   Regional indicator            149 non-null    object \n",
      " 2   Logged GDP per capita         149 non-null    float64\n",
      " 3   Social support                149 non-null    float64\n",
      " 4   Healthy life expectancy       149 non-null    float64\n",
      " 5   Freedom to make life choices  149 non-null    float64\n",
      " 6   Perceptions of corruption     149 non-null    float64\n",
      "dtypes: float64(5), object(2)\n",
      "memory usage: 8.3+ KB\n"
     ]
    }
   ],
   "source": [
    "df.info()"
   ]
  },
  {
   "cell_type": "markdown",
   "id": "2e507120",
   "metadata": {},
   "source": [
    "We check whether a featues has null values or unvalid data types. Output above shows that all features has a correct data types and don't have missing values"
   ]
  },
  {
   "cell_type": "code",
   "execution_count": 5,
   "id": "1b2d9ff2",
   "metadata": {
    "scrolled": true
   },
   "outputs": [
    {
     "data": {
      "text/html": [
       "<div>\n",
       "<style scoped>\n",
       "    .dataframe tbody tr th:only-of-type {\n",
       "        vertical-align: middle;\n",
       "    }\n",
       "\n",
       "    .dataframe tbody tr th {\n",
       "        vertical-align: top;\n",
       "    }\n",
       "\n",
       "    .dataframe thead th {\n",
       "        text-align: right;\n",
       "    }\n",
       "</style>\n",
       "<table border=\"1\" class=\"dataframe\">\n",
       "  <thead>\n",
       "    <tr style=\"text-align: right;\">\n",
       "      <th></th>\n",
       "      <th>count</th>\n",
       "      <th>mean</th>\n",
       "      <th>std</th>\n",
       "      <th>min</th>\n",
       "      <th>25%</th>\n",
       "      <th>50%</th>\n",
       "      <th>75%</th>\n",
       "      <th>max</th>\n",
       "    </tr>\n",
       "  </thead>\n",
       "  <tbody>\n",
       "    <tr>\n",
       "      <th>Logged GDP per capita</th>\n",
       "      <td>149.0</td>\n",
       "      <td>9.432208</td>\n",
       "      <td>1.158601</td>\n",
       "      <td>6.635</td>\n",
       "      <td>8.541</td>\n",
       "      <td>9.569</td>\n",
       "      <td>10.421</td>\n",
       "      <td>11.647</td>\n",
       "    </tr>\n",
       "    <tr>\n",
       "      <th>Social support</th>\n",
       "      <td>149.0</td>\n",
       "      <td>0.814745</td>\n",
       "      <td>0.114889</td>\n",
       "      <td>0.463</td>\n",
       "      <td>0.750</td>\n",
       "      <td>0.832</td>\n",
       "      <td>0.905</td>\n",
       "      <td>0.983</td>\n",
       "    </tr>\n",
       "    <tr>\n",
       "      <th>Healthy life expectancy</th>\n",
       "      <td>149.0</td>\n",
       "      <td>64.992799</td>\n",
       "      <td>6.762043</td>\n",
       "      <td>48.478</td>\n",
       "      <td>59.802</td>\n",
       "      <td>66.603</td>\n",
       "      <td>69.600</td>\n",
       "      <td>76.953</td>\n",
       "    </tr>\n",
       "    <tr>\n",
       "      <th>Freedom to make life choices</th>\n",
       "      <td>149.0</td>\n",
       "      <td>0.791597</td>\n",
       "      <td>0.113332</td>\n",
       "      <td>0.382</td>\n",
       "      <td>0.718</td>\n",
       "      <td>0.804</td>\n",
       "      <td>0.877</td>\n",
       "      <td>0.970</td>\n",
       "    </tr>\n",
       "    <tr>\n",
       "      <th>Perceptions of corruption</th>\n",
       "      <td>149.0</td>\n",
       "      <td>0.727450</td>\n",
       "      <td>0.179226</td>\n",
       "      <td>0.082</td>\n",
       "      <td>0.667</td>\n",
       "      <td>0.781</td>\n",
       "      <td>0.845</td>\n",
       "      <td>0.939</td>\n",
       "    </tr>\n",
       "  </tbody>\n",
       "</table>\n",
       "</div>"
      ],
      "text/plain": [
       "                              count       mean       std     min     25%  \\\n",
       "Logged GDP per capita         149.0   9.432208  1.158601   6.635   8.541   \n",
       "Social support                149.0   0.814745  0.114889   0.463   0.750   \n",
       "Healthy life expectancy       149.0  64.992799  6.762043  48.478  59.802   \n",
       "Freedom to make life choices  149.0   0.791597  0.113332   0.382   0.718   \n",
       "Perceptions of corruption     149.0   0.727450  0.179226   0.082   0.667   \n",
       "\n",
       "                                 50%     75%     max  \n",
       "Logged GDP per capita          9.569  10.421  11.647  \n",
       "Social support                 0.832   0.905   0.983  \n",
       "Healthy life expectancy       66.603  69.600  76.953  \n",
       "Freedom to make life choices   0.804   0.877   0.970  \n",
       "Perceptions of corruption      0.781   0.845   0.939  "
      ]
     },
     "execution_count": 5,
     "metadata": {},
     "output_type": "execute_result"
    }
   ],
   "source": [
    "df.describe().transpose()"
   ]
  },
  {
   "cell_type": "markdown",
   "id": "720212d0",
   "metadata": {},
   "source": [
    "We check central tendency only for numerical features"
   ]
  },
  {
   "cell_type": "code",
   "execution_count": 6,
   "id": "4e365edc",
   "metadata": {
    "scrolled": true
   },
   "outputs": [
    {
     "data": {
      "text/plain": [
       "Country name                    0\n",
       "Regional indicator              0\n",
       "Logged GDP per capita           0\n",
       "Social support                  0\n",
       "Healthy life expectancy         0\n",
       "Freedom to make life choices    0\n",
       "Perceptions of corruption       0\n",
       "dtype: int64"
      ]
     },
     "execution_count": 6,
     "metadata": {},
     "output_type": "execute_result"
    }
   ],
   "source": [
    "df.isnull().sum()"
   ]
  },
  {
   "cell_type": "markdown",
   "id": "21e8a1bc",
   "metadata": {},
   "source": [
    "Make sure we dont' have any missing values. Output above validate the dataset was a clean data"
   ]
  },
  {
   "cell_type": "markdown",
   "id": "01e48c26",
   "metadata": {},
   "source": [
    "### Get Insight By Visualization "
   ]
  },
  {
   "cell_type": "markdown",
   "id": "03aebc39",
   "metadata": {},
   "source": [
    "#### Univariate Analysis "
   ]
  },
  {
   "cell_type": "markdown",
   "id": "fc4791f0",
   "metadata": {},
   "source": [
    "#####  1. GDP Per Capita"
   ]
  },
  {
   "cell_type": "code",
   "execution_count": 7,
   "id": "3f867aba",
   "metadata": {
    "scrolled": false
   },
   "outputs": [
    {
     "name": "stdout",
     "output_type": "stream",
     "text": [
      "From the highest GDP\n"
     ]
    },
    {
     "data": {
      "text/html": [
       "<div>\n",
       "<style scoped>\n",
       "    .dataframe tbody tr th:only-of-type {\n",
       "        vertical-align: middle;\n",
       "    }\n",
       "\n",
       "    .dataframe tbody tr th {\n",
       "        vertical-align: top;\n",
       "    }\n",
       "\n",
       "    .dataframe thead th {\n",
       "        text-align: right;\n",
       "    }\n",
       "</style>\n",
       "<table border=\"1\" class=\"dataframe\">\n",
       "  <thead>\n",
       "    <tr style=\"text-align: right;\">\n",
       "      <th></th>\n",
       "      <th>Country name</th>\n",
       "      <th>Regional indicator</th>\n",
       "      <th>Logged GDP per capita</th>\n",
       "      <th>Social support</th>\n",
       "      <th>Healthy life expectancy</th>\n",
       "      <th>Freedom to make life choices</th>\n",
       "      <th>Perceptions of corruption</th>\n",
       "    </tr>\n",
       "  </thead>\n",
       "  <tbody>\n",
       "    <tr>\n",
       "      <th>7</th>\n",
       "      <td>Luxembourg</td>\n",
       "      <td>Western Europe</td>\n",
       "      <td>11.647</td>\n",
       "      <td>0.908</td>\n",
       "      <td>72.600</td>\n",
       "      <td>0.907</td>\n",
       "      <td>0.386</td>\n",
       "    </tr>\n",
       "    <tr>\n",
       "      <th>31</th>\n",
       "      <td>Singapore</td>\n",
       "      <td>Southeast Asia</td>\n",
       "      <td>11.488</td>\n",
       "      <td>0.915</td>\n",
       "      <td>76.953</td>\n",
       "      <td>0.927</td>\n",
       "      <td>0.082</td>\n",
       "    </tr>\n",
       "    <tr>\n",
       "      <th>14</th>\n",
       "      <td>Ireland</td>\n",
       "      <td>Western Europe</td>\n",
       "      <td>11.342</td>\n",
       "      <td>0.947</td>\n",
       "      <td>72.400</td>\n",
       "      <td>0.879</td>\n",
       "      <td>0.363</td>\n",
       "    </tr>\n",
       "    <tr>\n",
       "      <th>2</th>\n",
       "      <td>Switzerland</td>\n",
       "      <td>Western Europe</td>\n",
       "      <td>11.117</td>\n",
       "      <td>0.942</td>\n",
       "      <td>74.400</td>\n",
       "      <td>0.919</td>\n",
       "      <td>0.292</td>\n",
       "    </tr>\n",
       "    <tr>\n",
       "      <th>24</th>\n",
       "      <td>United Arab Emirates</td>\n",
       "      <td>Middle East and North Africa</td>\n",
       "      <td>11.085</td>\n",
       "      <td>0.844</td>\n",
       "      <td>67.333</td>\n",
       "      <td>0.932</td>\n",
       "      <td>0.589</td>\n",
       "    </tr>\n",
       "  </tbody>\n",
       "</table>\n",
       "</div>"
      ],
      "text/plain": [
       "            Country name            Regional indicator  Logged GDP per capita  \\\n",
       "7             Luxembourg                Western Europe                 11.647   \n",
       "31             Singapore                Southeast Asia                 11.488   \n",
       "14               Ireland                Western Europe                 11.342   \n",
       "2            Switzerland                Western Europe                 11.117   \n",
       "24  United Arab Emirates  Middle East and North Africa                 11.085   \n",
       "\n",
       "    Social support  Healthy life expectancy  Freedom to make life choices  \\\n",
       "7            0.908                   72.600                         0.907   \n",
       "31           0.915                   76.953                         0.927   \n",
       "14           0.947                   72.400                         0.879   \n",
       "2            0.942                   74.400                         0.919   \n",
       "24           0.844                   67.333                         0.932   \n",
       "\n",
       "    Perceptions of corruption  \n",
       "7                       0.386  \n",
       "31                      0.082  \n",
       "14                      0.363  \n",
       "2                       0.292  \n",
       "24                      0.589  "
      ]
     },
     "metadata": {},
     "output_type": "display_data"
    },
    {
     "name": "stdout",
     "output_type": "stream",
     "text": [
      "From the Lowest GDP\n"
     ]
    },
    {
     "data": {
      "text/html": [
       "<div>\n",
       "<style scoped>\n",
       "    .dataframe tbody tr th:only-of-type {\n",
       "        vertical-align: middle;\n",
       "    }\n",
       "\n",
       "    .dataframe tbody tr th {\n",
       "        vertical-align: top;\n",
       "    }\n",
       "\n",
       "    .dataframe thead th {\n",
       "        text-align: right;\n",
       "    }\n",
       "</style>\n",
       "<table border=\"1\" class=\"dataframe\">\n",
       "  <thead>\n",
       "    <tr style=\"text-align: right;\">\n",
       "      <th></th>\n",
       "      <th>Country name</th>\n",
       "      <th>Regional indicator</th>\n",
       "      <th>Logged GDP per capita</th>\n",
       "      <th>Social support</th>\n",
       "      <th>Healthy life expectancy</th>\n",
       "      <th>Freedom to make life choices</th>\n",
       "      <th>Perceptions of corruption</th>\n",
       "    </tr>\n",
       "  </thead>\n",
       "  <tbody>\n",
       "    <tr>\n",
       "      <th>139</th>\n",
       "      <td>Burundi</td>\n",
       "      <td>Sub-Saharan Africa</td>\n",
       "      <td>6.635</td>\n",
       "      <td>0.490</td>\n",
       "      <td>53.400</td>\n",
       "      <td>0.626</td>\n",
       "      <td>0.607</td>\n",
       "    </tr>\n",
       "    <tr>\n",
       "      <th>143</th>\n",
       "      <td>Malawi</td>\n",
       "      <td>Sub-Saharan Africa</td>\n",
       "      <td>6.958</td>\n",
       "      <td>0.537</td>\n",
       "      <td>57.948</td>\n",
       "      <td>0.780</td>\n",
       "      <td>0.729</td>\n",
       "    </tr>\n",
       "    <tr>\n",
       "      <th>95</th>\n",
       "      <td>Niger</td>\n",
       "      <td>Sub-Saharan Africa</td>\n",
       "      <td>7.098</td>\n",
       "      <td>0.641</td>\n",
       "      <td>53.780</td>\n",
       "      <td>0.806</td>\n",
       "      <td>0.693</td>\n",
       "    </tr>\n",
       "    <tr>\n",
       "      <th>114</th>\n",
       "      <td>Mozambique</td>\n",
       "      <td>Sub-Saharan Africa</td>\n",
       "      <td>7.158</td>\n",
       "      <td>0.744</td>\n",
       "      <td>54.706</td>\n",
       "      <td>0.882</td>\n",
       "      <td>0.684</td>\n",
       "    </tr>\n",
       "    <tr>\n",
       "      <th>119</th>\n",
       "      <td>Liberia</td>\n",
       "      <td>Sub-Saharan Africa</td>\n",
       "      <td>7.288</td>\n",
       "      <td>0.720</td>\n",
       "      <td>56.498</td>\n",
       "      <td>0.735</td>\n",
       "      <td>0.850</td>\n",
       "    </tr>\n",
       "  </tbody>\n",
       "</table>\n",
       "</div>"
      ],
      "text/plain": [
       "    Country name  Regional indicator  Logged GDP per capita  Social support  \\\n",
       "139      Burundi  Sub-Saharan Africa                  6.635           0.490   \n",
       "143       Malawi  Sub-Saharan Africa                  6.958           0.537   \n",
       "95         Niger  Sub-Saharan Africa                  7.098           0.641   \n",
       "114   Mozambique  Sub-Saharan Africa                  7.158           0.744   \n",
       "119      Liberia  Sub-Saharan Africa                  7.288           0.720   \n",
       "\n",
       "     Healthy life expectancy  Freedom to make life choices  \\\n",
       "139                   53.400                         0.626   \n",
       "143                   57.948                         0.780   \n",
       "95                    53.780                         0.806   \n",
       "114                   54.706                         0.882   \n",
       "119                   56.498                         0.735   \n",
       "\n",
       "     Perceptions of corruption  \n",
       "139                      0.607  \n",
       "143                      0.729  \n",
       "95                       0.693  \n",
       "114                      0.684  \n",
       "119                      0.850  "
      ]
     },
     "metadata": {},
     "output_type": "display_data"
    }
   ],
   "source": [
    "print('From the highest GDP')\n",
    "display(df.sort_values('Logged GDP per capita', ascending=False).head())\n",
    "print('From the Lowest GDP')\n",
    "display(df.sort_values('Logged GDP per capita', ascending=True).head())"
   ]
  },
  {
   "cell_type": "markdown",
   "id": "91898d00",
   "metadata": {},
   "source": [
    "Let's visualize these data to gain more insight "
   ]
  },
  {
   "cell_type": "markdown",
   "id": "f638a56b",
   "metadata": {},
   "source": [
    "##### GDP per Capita By Region"
   ]
  },
  {
   "cell_type": "code",
   "execution_count": 8,
   "id": "9b08ef0c",
   "metadata": {
    "scrolled": false
   },
   "outputs": [
    {
     "data": {
      "image/png": "[encoded data removed]",
      "text/plain": [
       "<Figure size 1440x576 with 1 Axes>"
      ]
     },
     "metadata": {
      "needs_background": "light"
     },
     "output_type": "display_data"
    }
   ],
   "source": [
    "plt.figure(figsize=(20,8))\n",
    "plt.title('GDP 2021 by Region', fontsize=18, fontweight='bold')\n",
    "sns.set_style('darkgrid',\n",
    "              {'axes.facecolor': '0.95',\n",
    "               'grid.color': '0.1',\n",
    "               'figure.facecolor': '0.95'})\n",
    "sns.barplot(x=df.groupby('Regional indicator').mean()['Logged GDP per capita'].index,\n",
    "           y=df.groupby('Regional indicator').mean()['Logged GDP per capita'].values, palette='rocket')\n",
    "plt.xticks(fontsize = 16, rotation = 90)\n",
    "plt.yticks(fontsize=16)\n",
    "plt.show()"
   ]
  },
  {
   "cell_type": "markdown",
   "id": "4e0dba49",
   "metadata": {},
   "source": [
    "##### GDP per Capita By Country"
   ]
  },
  {
   "cell_type": "code",
   "execution_count": null,
   "id": "ff6d8739",
   "metadata": {
    "scrolled": false
   },
   "outputs": [],
   "source": [
    "plt.figure(figsize=(20,8))\n",
    "plt.title('GDP Per Capita 2021', fontsize=18, fontweight='bold')\n",
    "sns.set_style('darkgrid',\n",
    "              {'axes.facecolor': '0.95',\n",
    "               'grid.color': '0.1',\n",
    "               'figure.facecolor': '0.95'})\n",
    "sns.barplot(x=df.sort_values('Logged GDP per capita', ascending=False)[0:100]['Country name'],\n",
    "           y=df.sort_values('Logged GDP per capita', ascending=False)[0:100]['Logged GDP per capita'], palette='rocket')\n",
    "plt.xticks(fontsize = 12, rotation = 90)\n",
    "plt.yticks(fontsize=16)\n",
    "plt.show()"
   ]
  },
  {
   "cell_type": "markdown",
   "id": "06693b1a",
   "metadata": {},
   "source": [
    "###### Insight\n",
    "- Western Europe has the highest GDP among other region. While Sub Saharan Africa has the lowest GDP\n",
    "- Country with the highest GDP was Luxembourg"
   ]
  },
  {
   "cell_type": "markdown",
   "id": "b244effa",
   "metadata": {},
   "source": [
    "##### 2. Healthy Life Expectancy "
   ]
  },
  {
   "cell_type": "code",
   "execution_count": null,
   "id": "509778e1",
   "metadata": {
    "scrolled": true
   },
   "outputs": [],
   "source": [
    "df.groupby('Regional indicator').mean().sort_values('Healthy life expectancy', ascending=False)"
   ]
  },
  {
   "cell_type": "markdown",
   "id": "c9358d81",
   "metadata": {},
   "source": [
    "Let's visualize this dataset to get more insight "
   ]
  },
  {
   "cell_type": "markdown",
   "id": "a4caaddb",
   "metadata": {},
   "source": [
    "#### Healthy Life Expectancy By Region"
   ]
  },
  {
   "cell_type": "code",
   "execution_count": null,
   "id": "2ed12299",
   "metadata": {
    "scrolled": false
   },
   "outputs": [],
   "source": [
    "plt.figure(figsize=(28,8))\n",
    "plt.title('Healthy Life Expectancy', fontsize = 18, fontweight='bold')\n",
    "sns.set_style('darkgrid',\n",
    "              {'axes.facecolor': '0.95',\n",
    "               'grid.color': '0.1',\n",
    "               'figure.facecolor': '0.95'})\n",
    "sns.barplot(x=df.groupby('Regional indicator').mean()['Healthy life expectancy'].index,\n",
    "           y=df.groupby('Regional indicator').mean()['Healthy life expectancy'].values, palette='rocket')\n",
    "plt.xticks(fontsize=18, rotation=90)\n",
    "plt.yticks(fontsize=18)\n",
    "plt.show()"
   ]
  },
  {
   "cell_type": "markdown",
   "id": "d6c3f8c3",
   "metadata": {},
   "source": [
    "##### Healthy Life Expectancy by Country"
   ]
  },
  {
   "cell_type": "code",
   "execution_count": null,
   "id": "dd59971e",
   "metadata": {
    "scrolled": true
   },
   "outputs": [],
   "source": [
    "plt.figure(figsize=(28,8))\n",
    "plt.title('Healthy Life Expectancy', fontsize = 18, fontweight='bold')\n",
    "sns.set_style('darkgrid',\n",
    "              {'axes.facecolor': '0.95',\n",
    "               'grid.color': '0.1',\n",
    "               'figure.facecolor': '0.95'})\n",
    "sns.barplot(x=df.sort_values('Healthy life expectancy', ascending=False)[0:50]['Country name'],\n",
    "           y=df.sort_values('Healthy life expectancy', ascending=False)[0:50]['Healthy life expectancy'], \n",
    "           palette='rocket')\n",
    "plt.xticks(fontsize=18, rotation=90)\n",
    "plt.yticks(fontsize=18)\n",
    "plt.show()"
   ]
  },
  {
   "cell_type": "markdown",
   "id": "419b0369",
   "metadata": {},
   "source": [
    "##### Insights \n",
    "- Western Europe has the highest Healthy Life Expectancy with 73 years. While the lowest Healthy Life Expectancy was Sub-saharan African with 55 Years\n",
    "- Singapre has the Highest Healthy Life Expectancy"
   ]
  },
  {
   "cell_type": "markdown",
   "id": "7ef1743d",
   "metadata": {},
   "source": [
    "##### Bivariate Analysis"
   ]
  },
  {
   "cell_type": "markdown",
   "id": "083c3e00",
   "metadata": {},
   "source": [
    "###### 1. Life Expectancy with Social Support"
   ]
  },
  {
   "cell_type": "code",
   "execution_count": null,
   "id": "3160d16a",
   "metadata": {
    "scrolled": false
   },
   "outputs": [],
   "source": [
    "plt.figure(figsize=(20,8))\n",
    "sns.relplot(x='Social support', y='Healthy life expectancy', hue = 'Regional indicator', data=df, palette='rocket')\n",
    "plt.title('Life Expectancy with Social Support', fontsize=16, fontweight='bold')\n",
    "plt.show()"
   ]
  },
  {
   "cell_type": "markdown",
   "id": "b8692ed5",
   "metadata": {},
   "source": [
    "###### 2. GDP with Perceptions of Corruption"
   ]
  },
  {
   "cell_type": "code",
   "execution_count": null,
   "id": "568d949e",
   "metadata": {
    "scrolled": false
   },
   "outputs": [],
   "source": [
    "plt.figure(figsize=(20,8))\n",
    "sns.relplot(x='Perceptions of corruption', y='Logged GDP per capita', hue='Regional indicator', data=df, palette='rocket')\n",
    "plt.title('GDP with Perceptions of Corruption', fontsize=18, fontweight='bold')\n",
    "plt.show()"
   ]
  },
  {
   "cell_type": "markdown",
   "id": "eb1342fc",
   "metadata": {},
   "source": [
    "##### Insights \n",
    "- Life Expectancy has a positive correlation with Social Support. Meaning country with good social support maybe have high healthy life expectancy\n",
    "- There is no correlation between GDP with perception of corruption"
   ]
  }
 ],
 "metadata": {
  "kernelspec": {
   "display_name": "Python 3 (ipykernel)",
   "language": "python",
   "name": "python3"
  },
  "language_info": {
   "codemirror_mode": {
    "name": "ipython",
    "version": 3
   },
   "file_extension": ".py",
   "mimetype": "text/x-python",
   "name": "python",
   "nbconvert_exporter": "python",
   "pygments_lexer": "ipython3",
   "version": "3.10.5"
  }
 },
 "nbformat": 4,
 "nbformat_minor": 5
}

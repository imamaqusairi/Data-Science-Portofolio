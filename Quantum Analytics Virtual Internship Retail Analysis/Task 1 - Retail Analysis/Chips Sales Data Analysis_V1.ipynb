{
 "cells": [
  {
   "cell_type": "markdown",
   "id": "1e5855a3-6839-41ae-ae40-ac137457c5a9",
   "metadata": {},
   "source": [
    "# Chip Sales Data Analysis"
   ]
  },
  {
   "cell_type": "code",
   "execution_count": 1,
   "id": "bf59c45f-2cfa-4da6-8e7f-701da352f09e",
   "metadata": {
    "tags": []
   },
   "outputs": [],
   "source": [
    "import pandas as pd \n",
    "import numpy as np\n",
    "from numpy import percentile\n",
    "import matplotlib.pyplot as plt\n",
    "import seaborn as sns \n",
    "import openpyxl\n",
    "import warnings\n",
    "\n",
    "%matplotlib inline\n",
    "plt.style.use('fivethirtyeight')\n",
    "warnings.filterwarnings('ignore')"
   ]
  },
  {
   "cell_type": "code",
   "execution_count": 2,
   "id": "f5a1aabb-482b-48ba-8c67-f2cd2ee55f40",
   "metadata": {
    "tags": []
   },
   "outputs": [],
   "source": [
    "df1 = pd.read_csv(r'D:/Data Science Project/Virtual Internship/Data Analytics Virtual Internship at Quantium/QVI_purchase_behaviour.csv')\n",
    "df2 = pd.read_excel(r'D:/Data Science Project/Virtual Internship/Data Analytics Virtual Internship at Quantium/QVI_transaction_data.xlsx', sheet_name='in')"
   ]
  },
  {
   "cell_type": "code",
   "execution_count": 3,
   "id": "27aaa2f7-533b-4441-b89e-bca6c10b2941",
   "metadata": {
    "tags": []
   },
   "outputs": [],
   "source": [
    "purchase = df1.copy()\n",
    "transaction = df2.copy()"
   ]
  },
  {
   "cell_type": "markdown",
   "id": "48d80be7-bb50-4ded-8e76-f90610e5b2a1",
   "metadata": {},
   "source": [
    "## Data Checks "
   ]
  },
  {
   "cell_type": "code",
   "execution_count": 4,
   "id": "2ce8c624-1e21-4434-877a-fd30f18e3edd",
   "metadata": {
    "tags": []
   },
   "outputs": [
    {
     "data": {
      "text/html": [
       "<div>\n",
       "<style scoped>\n",
       "    .dataframe tbody tr th:only-of-type {\n",
       "        vertical-align: middle;\n",
       "    }\n",
       "\n",
       "    .dataframe tbody tr th {\n",
       "        vertical-align: top;\n",
       "    }\n",
       "\n",
       "    .dataframe thead th {\n",
       "        text-align: right;\n",
       "    }\n",
       "</style>\n",
       "<table border=\"1\" class=\"dataframe\">\n",
       "  <thead>\n",
       "    <tr style=\"text-align: right;\">\n",
       "      <th></th>\n",
       "      <th>LYLTY_CARD_NBR</th>\n",
       "      <th>LIFESTAGE</th>\n",
       "      <th>PREMIUM_CUSTOMER</th>\n",
       "    </tr>\n",
       "  </thead>\n",
       "  <tbody>\n",
       "    <tr>\n",
       "      <th>5300</th>\n",
       "      <td>19288</td>\n",
       "      <td>RETIREES</td>\n",
       "      <td>Mainstream</td>\n",
       "    </tr>\n",
       "    <tr>\n",
       "      <th>46653</th>\n",
       "      <td>174312</td>\n",
       "      <td>MIDAGE SINGLES/COUPLES</td>\n",
       "      <td>Mainstream</td>\n",
       "    </tr>\n",
       "    <tr>\n",
       "      <th>3857</th>\n",
       "      <td>14477</td>\n",
       "      <td>RETIREES</td>\n",
       "      <td>Mainstream</td>\n",
       "    </tr>\n",
       "    <tr>\n",
       "      <th>6568</th>\n",
       "      <td>23230</td>\n",
       "      <td>OLDER SINGLES/COUPLES</td>\n",
       "      <td>Premium</td>\n",
       "    </tr>\n",
       "    <tr>\n",
       "      <th>63994</th>\n",
       "      <td>240042</td>\n",
       "      <td>YOUNG SINGLES/COUPLES</td>\n",
       "      <td>Mainstream</td>\n",
       "    </tr>\n",
       "    <tr>\n",
       "      <th>51171</th>\n",
       "      <td>191098</td>\n",
       "      <td>YOUNG FAMILIES</td>\n",
       "      <td>Premium</td>\n",
       "    </tr>\n",
       "    <tr>\n",
       "      <th>33926</th>\n",
       "      <td>124350</td>\n",
       "      <td>OLDER SINGLES/COUPLES</td>\n",
       "      <td>Budget</td>\n",
       "    </tr>\n",
       "    <tr>\n",
       "      <th>52128</th>\n",
       "      <td>196040</td>\n",
       "      <td>OLDER FAMILIES</td>\n",
       "      <td>Mainstream</td>\n",
       "    </tr>\n",
       "    <tr>\n",
       "      <th>64268</th>\n",
       "      <td>241013</td>\n",
       "      <td>OLDER FAMILIES</td>\n",
       "      <td>Mainstream</td>\n",
       "    </tr>\n",
       "    <tr>\n",
       "      <th>17575</th>\n",
       "      <td>64287</td>\n",
       "      <td>YOUNG SINGLES/COUPLES</td>\n",
       "      <td>Mainstream</td>\n",
       "    </tr>\n",
       "  </tbody>\n",
       "</table>\n",
       "</div>"
      ],
      "text/plain": [
       "       LYLTY_CARD_NBR               LIFESTAGE PREMIUM_CUSTOMER\n",
       "5300            19288                RETIREES       Mainstream\n",
       "46653          174312  MIDAGE SINGLES/COUPLES       Mainstream\n",
       "3857            14477                RETIREES       Mainstream\n",
       "6568            23230   OLDER SINGLES/COUPLES          Premium\n",
       "63994          240042   YOUNG SINGLES/COUPLES       Mainstream\n",
       "51171          191098          YOUNG FAMILIES          Premium\n",
       "33926          124350   OLDER SINGLES/COUPLES           Budget\n",
       "52128          196040          OLDER FAMILIES       Mainstream\n",
       "64268          241013          OLDER FAMILIES       Mainstream\n",
       "17575           64287   YOUNG SINGLES/COUPLES       Mainstream"
      ]
     },
     "execution_count": 4,
     "metadata": {},
     "output_type": "execute_result"
    }
   ],
   "source": [
    "df1.sample(10)"
   ]
  },
  {
   "cell_type": "code",
   "execution_count": 5,
   "id": "3cab1835-c8dc-421d-a8af-39543ec8188b",
   "metadata": {
    "tags": []
   },
   "outputs": [
    {
     "data": {
      "text/html": [
       "<div>\n",
       "<style scoped>\n",
       "    .dataframe tbody tr th:only-of-type {\n",
       "        vertical-align: middle;\n",
       "    }\n",
       "\n",
       "    .dataframe tbody tr th {\n",
       "        vertical-align: top;\n",
       "    }\n",
       "\n",
       "    .dataframe thead th {\n",
       "        text-align: right;\n",
       "    }\n",
       "</style>\n",
       "<table border=\"1\" class=\"dataframe\">\n",
       "  <thead>\n",
       "    <tr style=\"text-align: right;\">\n",
       "      <th></th>\n",
       "      <th>DATE</th>\n",
       "      <th>STORE_NBR</th>\n",
       "      <th>LYLTY_CARD_NBR</th>\n",
       "      <th>TXN_ID</th>\n",
       "      <th>PROD_NBR</th>\n",
       "      <th>PROD_NAME</th>\n",
       "      <th>PROD_QTY</th>\n",
       "      <th>TOT_SALES</th>\n",
       "    </tr>\n",
       "  </thead>\n",
       "  <tbody>\n",
       "    <tr>\n",
       "      <th>109812</th>\n",
       "      <td>43317</td>\n",
       "      <td>152</td>\n",
       "      <td>152066</td>\n",
       "      <td>150645</td>\n",
       "      <td>91</td>\n",
       "      <td>CCs Tasty Cheese    175g</td>\n",
       "      <td>2</td>\n",
       "      <td>4.2</td>\n",
       "    </tr>\n",
       "    <tr>\n",
       "      <th>46697</th>\n",
       "      <td>43364</td>\n",
       "      <td>163</td>\n",
       "      <td>163052</td>\n",
       "      <td>163330</td>\n",
       "      <td>46</td>\n",
       "      <td>Kettle Original 175g</td>\n",
       "      <td>2</td>\n",
       "      <td>10.8</td>\n",
       "    </tr>\n",
       "    <tr>\n",
       "      <th>210909</th>\n",
       "      <td>43471</td>\n",
       "      <td>143</td>\n",
       "      <td>143318</td>\n",
       "      <td>143796</td>\n",
       "      <td>78</td>\n",
       "      <td>Thins Chips Salt &amp;  Vinegar 175g</td>\n",
       "      <td>2</td>\n",
       "      <td>6.6</td>\n",
       "    </tr>\n",
       "    <tr>\n",
       "      <th>74308</th>\n",
       "      <td>43290</td>\n",
       "      <td>107</td>\n",
       "      <td>107067</td>\n",
       "      <td>108707</td>\n",
       "      <td>67</td>\n",
       "      <td>RRD Chilli&amp;         Coconut 150g</td>\n",
       "      <td>2</td>\n",
       "      <td>5.4</td>\n",
       "    </tr>\n",
       "    <tr>\n",
       "      <th>9390</th>\n",
       "      <td>43353</td>\n",
       "      <td>93</td>\n",
       "      <td>93121</td>\n",
       "      <td>91401</td>\n",
       "      <td>61</td>\n",
       "      <td>Smiths Crinkle Cut  Chips Chicken 170g</td>\n",
       "      <td>2</td>\n",
       "      <td>5.8</td>\n",
       "    </tr>\n",
       "    <tr>\n",
       "      <th>202382</th>\n",
       "      <td>43554</td>\n",
       "      <td>239</td>\n",
       "      <td>239362</td>\n",
       "      <td>243982</td>\n",
       "      <td>108</td>\n",
       "      <td>Kettle Tortilla ChpsHny&amp;Jlpno Chili 150g</td>\n",
       "      <td>2</td>\n",
       "      <td>9.2</td>\n",
       "    </tr>\n",
       "    <tr>\n",
       "      <th>24086</th>\n",
       "      <td>43436</td>\n",
       "      <td>235</td>\n",
       "      <td>235246</td>\n",
       "      <td>238269</td>\n",
       "      <td>2</td>\n",
       "      <td>Cobs Popd Sour Crm  &amp;Chives Chips 110g</td>\n",
       "      <td>2</td>\n",
       "      <td>7.6</td>\n",
       "    </tr>\n",
       "    <tr>\n",
       "      <th>38474</th>\n",
       "      <td>43308</td>\n",
       "      <td>71</td>\n",
       "      <td>71155</td>\n",
       "      <td>69931</td>\n",
       "      <td>85</td>\n",
       "      <td>RRD Honey Soy       Chicken 165g</td>\n",
       "      <td>2</td>\n",
       "      <td>6.0</td>\n",
       "    </tr>\n",
       "    <tr>\n",
       "      <th>215212</th>\n",
       "      <td>43556</td>\n",
       "      <td>231</td>\n",
       "      <td>231107</td>\n",
       "      <td>234130</td>\n",
       "      <td>24</td>\n",
       "      <td>Grain Waves         Sweet Chilli 210g</td>\n",
       "      <td>2</td>\n",
       "      <td>7.2</td>\n",
       "    </tr>\n",
       "    <tr>\n",
       "      <th>177683</th>\n",
       "      <td>43462</td>\n",
       "      <td>113</td>\n",
       "      <td>113050</td>\n",
       "      <td>115697</td>\n",
       "      <td>12</td>\n",
       "      <td>Natural Chip Co     Tmato Hrb&amp;Spce 175g</td>\n",
       "      <td>2</td>\n",
       "      <td>6.0</td>\n",
       "    </tr>\n",
       "  </tbody>\n",
       "</table>\n",
       "</div>"
      ],
      "text/plain": [
       "         DATE  STORE_NBR  LYLTY_CARD_NBR  TXN_ID  PROD_NBR  \\\n",
       "109812  43317        152          152066  150645        91   \n",
       "46697   43364        163          163052  163330        46   \n",
       "210909  43471        143          143318  143796        78   \n",
       "74308   43290        107          107067  108707        67   \n",
       "9390    43353         93           93121   91401        61   \n",
       "202382  43554        239          239362  243982       108   \n",
       "24086   43436        235          235246  238269         2   \n",
       "38474   43308         71           71155   69931        85   \n",
       "215212  43556        231          231107  234130        24   \n",
       "177683  43462        113          113050  115697        12   \n",
       "\n",
       "                                       PROD_NAME  PROD_QTY  TOT_SALES  \n",
       "109812                  CCs Tasty Cheese    175g         2        4.2  \n",
       "46697                       Kettle Original 175g         2       10.8  \n",
       "210909          Thins Chips Salt &  Vinegar 175g         2        6.6  \n",
       "74308           RRD Chilli&         Coconut 150g         2        5.4  \n",
       "9390      Smiths Crinkle Cut  Chips Chicken 170g         2        5.8  \n",
       "202382  Kettle Tortilla ChpsHny&Jlpno Chili 150g         2        9.2  \n",
       "24086     Cobs Popd Sour Crm  &Chives Chips 110g         2        7.6  \n",
       "38474           RRD Honey Soy       Chicken 165g         2        6.0  \n",
       "215212     Grain Waves         Sweet Chilli 210g         2        7.2  \n",
       "177683   Natural Chip Co     Tmato Hrb&Spce 175g         2        6.0  "
      ]
     },
     "execution_count": 5,
     "metadata": {},
     "output_type": "execute_result"
    }
   ],
   "source": [
    "df2.sample(10)"
   ]
  },
  {
   "cell_type": "code",
   "execution_count": 6,
   "id": "afd6e33a-1f25-4403-9861-0b3532e1351a",
   "metadata": {
    "tags": []
   },
   "outputs": [],
   "source": [
    "def quality_check_data(data):\n",
    "    display(data.info())\n",
    "    display(data.describe())\n",
    "    display(f'Number Of Missing Values : {data.isnull().sum().sum()} Rows')\n",
    "    display(f'Number Of Duplicated Values : {data.duplicated().sum()} Rows')\n",
    "    display(f'Number Of Object Data Type : {len(data.select_dtypes(include=\"object\").columns)} Features')\n",
    "    display(f'Number Of Integer Data Type : {len(data.select_dtypes(include=\"int64\").columns)} Features')\n",
    "    display(f'Number Of Float Data Type : {len(data.select_dtypes(include=\"float64\").columns)} Features')"
   ]
  },
  {
   "cell_type": "code",
   "execution_count": 7,
   "id": "ec4c7b9c-2ec7-4130-93f8-ff1ef022107d",
   "metadata": {
    "tags": []
   },
   "outputs": [
    {
     "name": "stdout",
     "output_type": "stream",
     "text": [
      "<class 'pandas.core.frame.DataFrame'>\n",
      "RangeIndex: 72637 entries, 0 to 72636\n",
      "Data columns (total 3 columns):\n",
      " #   Column            Non-Null Count  Dtype \n",
      "---  ------            --------------  ----- \n",
      " 0   LYLTY_CARD_NBR    72637 non-null  int64 \n",
      " 1   LIFESTAGE         72637 non-null  object\n",
      " 2   PREMIUM_CUSTOMER  72637 non-null  object\n",
      "dtypes: int64(1), object(2)\n",
      "memory usage: 1.7+ MB\n"
     ]
    },
    {
     "data": {
      "text/plain": [
       "None"
      ]
     },
     "metadata": {},
     "output_type": "display_data"
    },
    {
     "data": {
      "text/html": [
       "<div>\n",
       "<style scoped>\n",
       "    .dataframe tbody tr th:only-of-type {\n",
       "        vertical-align: middle;\n",
       "    }\n",
       "\n",
       "    .dataframe tbody tr th {\n",
       "        vertical-align: top;\n",
       "    }\n",
       "\n",
       "    .dataframe thead th {\n",
       "        text-align: right;\n",
       "    }\n",
       "</style>\n",
       "<table border=\"1\" class=\"dataframe\">\n",
       "  <thead>\n",
       "    <tr style=\"text-align: right;\">\n",
       "      <th></th>\n",
       "      <th>LYLTY_CARD_NBR</th>\n",
       "    </tr>\n",
       "  </thead>\n",
       "  <tbody>\n",
       "    <tr>\n",
       "      <th>count</th>\n",
       "      <td>7.263700e+04</td>\n",
       "    </tr>\n",
       "    <tr>\n",
       "      <th>mean</th>\n",
       "      <td>1.361859e+05</td>\n",
       "    </tr>\n",
       "    <tr>\n",
       "      <th>std</th>\n",
       "      <td>8.989293e+04</td>\n",
       "    </tr>\n",
       "    <tr>\n",
       "      <th>min</th>\n",
       "      <td>1.000000e+03</td>\n",
       "    </tr>\n",
       "    <tr>\n",
       "      <th>25%</th>\n",
       "      <td>6.620200e+04</td>\n",
       "    </tr>\n",
       "    <tr>\n",
       "      <th>50%</th>\n",
       "      <td>1.340400e+05</td>\n",
       "    </tr>\n",
       "    <tr>\n",
       "      <th>75%</th>\n",
       "      <td>2.033750e+05</td>\n",
       "    </tr>\n",
       "    <tr>\n",
       "      <th>max</th>\n",
       "      <td>2.373711e+06</td>\n",
       "    </tr>\n",
       "  </tbody>\n",
       "</table>\n",
       "</div>"
      ],
      "text/plain": [
       "       LYLTY_CARD_NBR\n",
       "count    7.263700e+04\n",
       "mean     1.361859e+05\n",
       "std      8.989293e+04\n",
       "min      1.000000e+03\n",
       "25%      6.620200e+04\n",
       "50%      1.340400e+05\n",
       "75%      2.033750e+05\n",
       "max      2.373711e+06"
      ]
     },
     "metadata": {},
     "output_type": "display_data"
    },
    {
     "data": {
      "text/plain": [
       "'Number Of Missing Values : 0 Rows'"
      ]
     },
     "metadata": {},
     "output_type": "display_data"
    },
    {
     "data": {
      "text/plain": [
       "'Number Of Duplicated Values : 0 Rows'"
      ]
     },
     "metadata": {},
     "output_type": "display_data"
    },
    {
     "data": {
      "text/plain": [
       "'Number Of Object Data Type : 2 Features'"
      ]
     },
     "metadata": {},
     "output_type": "display_data"
    },
    {
     "data": {
      "text/plain": [
       "'Number Of Integer Data Type : 1 Features'"
      ]
     },
     "metadata": {},
     "output_type": "display_data"
    },
    {
     "data": {
      "text/plain": [
       "'Number Of Float Data Type : 0 Features'"
      ]
     },
     "metadata": {},
     "output_type": "display_data"
    }
   ],
   "source": [
    "quality_check_data(df1)"
   ]
  },
  {
   "cell_type": "code",
   "execution_count": 8,
   "id": "435e8089-880f-4999-972a-2160d927b452",
   "metadata": {
    "tags": []
   },
   "outputs": [
    {
     "name": "stdout",
     "output_type": "stream",
     "text": [
      "<class 'pandas.core.frame.DataFrame'>\n",
      "RangeIndex: 264836 entries, 0 to 264835\n",
      "Data columns (total 8 columns):\n",
      " #   Column          Non-Null Count   Dtype  \n",
      "---  ------          --------------   -----  \n",
      " 0   DATE            264836 non-null  int64  \n",
      " 1   STORE_NBR       264836 non-null  int64  \n",
      " 2   LYLTY_CARD_NBR  264836 non-null  int64  \n",
      " 3   TXN_ID          264836 non-null  int64  \n",
      " 4   PROD_NBR        264836 non-null  int64  \n",
      " 5   PROD_NAME       264836 non-null  object \n",
      " 6   PROD_QTY        264836 non-null  int64  \n",
      " 7   TOT_SALES       264836 non-null  float64\n",
      "dtypes: float64(1), int64(6), object(1)\n",
      "memory usage: 16.2+ MB\n"
     ]
    },
    {
     "data": {
      "text/plain": [
       "None"
      ]
     },
     "metadata": {},
     "output_type": "display_data"
    },
    {
     "data": {
      "text/html": [
       "<div>\n",
       "<style scoped>\n",
       "    .dataframe tbody tr th:only-of-type {\n",
       "        vertical-align: middle;\n",
       "    }\n",
       "\n",
       "    .dataframe tbody tr th {\n",
       "        vertical-align: top;\n",
       "    }\n",
       "\n",
       "    .dataframe thead th {\n",
       "        text-align: right;\n",
       "    }\n",
       "</style>\n",
       "<table border=\"1\" class=\"dataframe\">\n",
       "  <thead>\n",
       "    <tr style=\"text-align: right;\">\n",
       "      <th></th>\n",
       "      <th>DATE</th>\n",
       "      <th>STORE_NBR</th>\n",
       "      <th>LYLTY_CARD_NBR</th>\n",
       "      <th>TXN_ID</th>\n",
       "      <th>PROD_NBR</th>\n",
       "      <th>PROD_QTY</th>\n",
       "      <th>TOT_SALES</th>\n",
       "    </tr>\n",
       "  </thead>\n",
       "  <tbody>\n",
       "    <tr>\n",
       "      <th>count</th>\n",
       "      <td>264836.000000</td>\n",
       "      <td>264836.00000</td>\n",
       "      <td>2.648360e+05</td>\n",
       "      <td>2.648360e+05</td>\n",
       "      <td>264836.000000</td>\n",
       "      <td>264836.000000</td>\n",
       "      <td>264836.000000</td>\n",
       "    </tr>\n",
       "    <tr>\n",
       "      <th>mean</th>\n",
       "      <td>43464.036260</td>\n",
       "      <td>135.08011</td>\n",
       "      <td>1.355495e+05</td>\n",
       "      <td>1.351583e+05</td>\n",
       "      <td>56.583157</td>\n",
       "      <td>1.907309</td>\n",
       "      <td>7.304200</td>\n",
       "    </tr>\n",
       "    <tr>\n",
       "      <th>std</th>\n",
       "      <td>105.389282</td>\n",
       "      <td>76.78418</td>\n",
       "      <td>8.057998e+04</td>\n",
       "      <td>7.813303e+04</td>\n",
       "      <td>32.826638</td>\n",
       "      <td>0.643654</td>\n",
       "      <td>3.083226</td>\n",
       "    </tr>\n",
       "    <tr>\n",
       "      <th>min</th>\n",
       "      <td>43282.000000</td>\n",
       "      <td>1.00000</td>\n",
       "      <td>1.000000e+03</td>\n",
       "      <td>1.000000e+00</td>\n",
       "      <td>1.000000</td>\n",
       "      <td>1.000000</td>\n",
       "      <td>1.500000</td>\n",
       "    </tr>\n",
       "    <tr>\n",
       "      <th>25%</th>\n",
       "      <td>43373.000000</td>\n",
       "      <td>70.00000</td>\n",
       "      <td>7.002100e+04</td>\n",
       "      <td>6.760150e+04</td>\n",
       "      <td>28.000000</td>\n",
       "      <td>2.000000</td>\n",
       "      <td>5.400000</td>\n",
       "    </tr>\n",
       "    <tr>\n",
       "      <th>50%</th>\n",
       "      <td>43464.000000</td>\n",
       "      <td>130.00000</td>\n",
       "      <td>1.303575e+05</td>\n",
       "      <td>1.351375e+05</td>\n",
       "      <td>56.000000</td>\n",
       "      <td>2.000000</td>\n",
       "      <td>7.400000</td>\n",
       "    </tr>\n",
       "    <tr>\n",
       "      <th>75%</th>\n",
       "      <td>43555.000000</td>\n",
       "      <td>203.00000</td>\n",
       "      <td>2.030942e+05</td>\n",
       "      <td>2.027012e+05</td>\n",
       "      <td>85.000000</td>\n",
       "      <td>2.000000</td>\n",
       "      <td>9.200000</td>\n",
       "    </tr>\n",
       "    <tr>\n",
       "      <th>max</th>\n",
       "      <td>43646.000000</td>\n",
       "      <td>272.00000</td>\n",
       "      <td>2.373711e+06</td>\n",
       "      <td>2.415841e+06</td>\n",
       "      <td>114.000000</td>\n",
       "      <td>200.000000</td>\n",
       "      <td>650.000000</td>\n",
       "    </tr>\n",
       "  </tbody>\n",
       "</table>\n",
       "</div>"
      ],
      "text/plain": [
       "                DATE     STORE_NBR  LYLTY_CARD_NBR        TXN_ID  \\\n",
       "count  264836.000000  264836.00000    2.648360e+05  2.648360e+05   \n",
       "mean    43464.036260     135.08011    1.355495e+05  1.351583e+05   \n",
       "std       105.389282      76.78418    8.057998e+04  7.813303e+04   \n",
       "min     43282.000000       1.00000    1.000000e+03  1.000000e+00   \n",
       "25%     43373.000000      70.00000    7.002100e+04  6.760150e+04   \n",
       "50%     43464.000000     130.00000    1.303575e+05  1.351375e+05   \n",
       "75%     43555.000000     203.00000    2.030942e+05  2.027012e+05   \n",
       "max     43646.000000     272.00000    2.373711e+06  2.415841e+06   \n",
       "\n",
       "            PROD_NBR       PROD_QTY      TOT_SALES  \n",
       "count  264836.000000  264836.000000  264836.000000  \n",
       "mean       56.583157       1.907309       7.304200  \n",
       "std        32.826638       0.643654       3.083226  \n",
       "min         1.000000       1.000000       1.500000  \n",
       "25%        28.000000       2.000000       5.400000  \n",
       "50%        56.000000       2.000000       7.400000  \n",
       "75%        85.000000       2.000000       9.200000  \n",
       "max       114.000000     200.000000     650.000000  "
      ]
     },
     "metadata": {},
     "output_type": "display_data"
    },
    {
     "data": {
      "text/plain": [
       "'Number Of Missing Values : 0 Rows'"
      ]
     },
     "metadata": {},
     "output_type": "display_data"
    },
    {
     "data": {
      "text/plain": [
       "'Number Of Duplicated Values : 1 Rows'"
      ]
     },
     "metadata": {},
     "output_type": "display_data"
    },
    {
     "data": {
      "text/plain": [
       "'Number Of Object Data Type : 1 Features'"
      ]
     },
     "metadata": {},
     "output_type": "display_data"
    },
    {
     "data": {
      "text/plain": [
       "'Number Of Integer Data Type : 6 Features'"
      ]
     },
     "metadata": {},
     "output_type": "display_data"
    },
    {
     "data": {
      "text/plain": [
       "'Number Of Float Data Type : 1 Features'"
      ]
     },
     "metadata": {},
     "output_type": "display_data"
    }
   ],
   "source": [
    "quality_check_data(df2)"
   ]
  },
  {
   "cell_type": "code",
   "execution_count": 9,
   "id": "1d8d0eb1-d343-4258-9bfc-c19513c8cd7c",
   "metadata": {
    "tags": []
   },
   "outputs": [],
   "source": [
    "def detect_outliers(data):\n",
    "    for i in data.columns:\n",
    "  # Check if the data type of the column is int64 or float64\n",
    "      if((data[i].dtype == 'int64') | (data[i].dtype == 'float64')):\n",
    "        q25 = percentile(data[i], 25) \n",
    "        q75 = percentile(data[i], 75)\n",
    "        iqr = q75 - q25\n",
    "        cutoff = 1.5 * iqr\n",
    "        lower = q25 - cutoff\n",
    "        upper = q75 + cutoff\n",
    "        print(i)\n",
    "        print(f'The Lower Limit is : {lower}, The Upper Limit is : {upper}')\n",
    "        print('The Number of Above Upper Limits :' ,len(data[data[i] > upper]))\n",
    "        print('The Number of Below Lower Limits :' ,len(data[data[i] < lower]))"
   ]
  },
  {
   "cell_type": "code",
   "execution_count": 10,
   "id": "c8a449ba-d57b-4bde-b8c9-b2f41b186dd2",
   "metadata": {
    "tags": []
   },
   "outputs": [
    {
     "name": "stdout",
     "output_type": "stream",
     "text": [
      "LYLTY_CARD_NBR\n",
      "The Lower Limit is : -139557.5, The Upper Limit is : 409134.5\n",
      "The Number of Above Upper Limits : 34\n",
      "The Number of Below Lower Limits : 0\n"
     ]
    }
   ],
   "source": [
    "detect_outliers(df1)"
   ]
  },
  {
   "cell_type": "code",
   "execution_count": 11,
   "id": "89d1432f-d7f1-4353-8a41-80a7996700d2",
   "metadata": {
    "tags": []
   },
   "outputs": [
    {
     "name": "stdout",
     "output_type": "stream",
     "text": [
      "DATE\n",
      "The Lower Limit is : 43100.0, The Upper Limit is : 43828.0\n",
      "The Number of Above Upper Limits : 0\n",
      "The Number of Below Lower Limits : 0\n",
      "STORE_NBR\n",
      "The Lower Limit is : -129.5, The Upper Limit is : 402.5\n",
      "The Number of Above Upper Limits : 0\n",
      "The Number of Below Lower Limits : 0\n",
      "LYLTY_CARD_NBR\n",
      "The Lower Limit is : -129588.875, The Upper Limit is : 402704.125\n",
      "The Number of Above Upper Limits : 44\n",
      "The Number of Below Lower Limits : 0\n",
      "TXN_ID\n",
      "The Lower Limit is : -135048.125, The Upper Limit is : 405350.875\n",
      "The Number of Above Upper Limits : 1\n",
      "The Number of Below Lower Limits : 0\n",
      "PROD_NBR\n",
      "The Lower Limit is : -57.5, The Upper Limit is : 170.5\n",
      "The Number of Above Upper Limits : 0\n",
      "The Number of Below Lower Limits : 0\n",
      "PROD_QTY\n",
      "The Lower Limit is : 2.0, The Upper Limit is : 2.0\n",
      "The Number of Above Upper Limits : 1279\n",
      "The Number of Below Lower Limits : 27518\n",
      "TOT_SALES\n",
      "The Lower Limit is : -0.29999999999999805, The Upper Limit is : 14.899999999999999\n",
      "The Number of Above Upper Limits : 578\n",
      "The Number of Below Lower Limits : 0\n"
     ]
    }
   ],
   "source": [
    "detect_outliers(df2)"
   ]
  },
  {
   "cell_type": "markdown",
   "id": "70562f77-0d58-4744-830e-815ebce42c55",
   "metadata": {},
   "source": [
    "**Data Check Results**\n",
    "1. Both dataset don't have missing values\n",
    "2. Both dataset have correct format \n",
    "3. In Transac. Data, `PROD_QTY` and `TOT_SALES` have high number of outliers based on IQR method"
   ]
  },
  {
   "cell_type": "markdown",
   "id": "f709209c-9caf-4fd3-8c5e-341468efa2ba",
   "metadata": {},
   "source": [
    "**Treatment**\n",
    "1. Overall the data has high quality by left us the outliers problem\n",
    "2. We instructed to remove outliers from `PROD_QTY` and `TOT_SALES`"
   ]
  },
  {
   "cell_type": "markdown",
   "id": "2d10c92e-cdcf-4f58-bdf2-b87ca535109d",
   "metadata": {},
   "source": [
    "## Treatment"
   ]
  },
  {
   "cell_type": "code",
   "execution_count": 12,
   "id": "ef822873-ed00-4ab8-8221-1a41692736aa",
   "metadata": {},
   "outputs": [],
   "source": [
    "def replace_outliers(data, feature):\n",
    "    q75 = percentile(data[feature], 75)\n",
    "    q25 = percentile(data[feature], 25)\n",
    "    iqr = q75 - q25\n",
    "    cutoff = 1.5 * iqr\n",
    "    lower = q25 - cutoff\n",
    "    upper = q75 + cutoff\n",
    "    median = np.median(data[feature])\n",
    "    data[feature] = np.where(data[feature] > upper, median,\n",
    "                             data[feature])"
   ]
  },
  {
   "cell_type": "code",
   "execution_count": 13,
   "id": "3350b16d-662d-47d8-855d-5b32140e2797",
   "metadata": {
    "tags": []
   },
   "outputs": [],
   "source": [
    "replace_outliers(df2, 'PROD_QTY')"
   ]
  },
  {
   "cell_type": "code",
   "execution_count": 14,
   "id": "1674e7f0-9b17-446c-b480-a8b1e5842a0a",
   "metadata": {},
   "outputs": [],
   "source": [
    "replace_outliers(df2, 'TOT_SALES')"
   ]
  },
  {
   "cell_type": "markdown",
   "id": "38b1519d-7d72-4380-9293-278fa70f0fbb",
   "metadata": {},
   "source": [
    "Before performing any Exploratory Data Analysis, i want to to join the dataset "
   ]
  },
  {
   "cell_type": "markdown",
   "id": "91832737-9b83-4244-8c4f-eb3aaf753851",
   "metadata": {},
   "source": [
    "## Merge the Tables"
   ]
  },
  {
   "cell_type": "code",
   "execution_count": 15,
   "id": "724d9396-a309-479e-93c5-72f2c8bc22f1",
   "metadata": {
    "tags": []
   },
   "outputs": [
    {
     "data": {
      "text/html": [
       "<div>\n",
       "<style scoped>\n",
       "    .dataframe tbody tr th:only-of-type {\n",
       "        vertical-align: middle;\n",
       "    }\n",
       "\n",
       "    .dataframe tbody tr th {\n",
       "        vertical-align: top;\n",
       "    }\n",
       "\n",
       "    .dataframe thead th {\n",
       "        text-align: right;\n",
       "    }\n",
       "</style>\n",
       "<table border=\"1\" class=\"dataframe\">\n",
       "  <thead>\n",
       "    <tr style=\"text-align: right;\">\n",
       "      <th></th>\n",
       "      <th>LYLTY_CARD_NBR</th>\n",
       "      <th>LIFESTAGE</th>\n",
       "      <th>PREMIUM_CUSTOMER</th>\n",
       "      <th>DATE</th>\n",
       "      <th>STORE_NBR</th>\n",
       "      <th>TXN_ID</th>\n",
       "      <th>PROD_NBR</th>\n",
       "      <th>PROD_NAME</th>\n",
       "      <th>PROD_QTY</th>\n",
       "      <th>TOT_SALES</th>\n",
       "    </tr>\n",
       "  </thead>\n",
       "  <tbody>\n",
       "    <tr>\n",
       "      <th>18347</th>\n",
       "      <td>23003</td>\n",
       "      <td>OLDER SINGLES/COUPLES</td>\n",
       "      <td>Mainstream</td>\n",
       "      <td>43314</td>\n",
       "      <td>23</td>\n",
       "      <td>18756</td>\n",
       "      <td>18</td>\n",
       "      <td>Cheetos Chs &amp; Bacon Balls 190g</td>\n",
       "      <td>2.0</td>\n",
       "      <td>6.6</td>\n",
       "    </tr>\n",
       "    <tr>\n",
       "      <th>208768</th>\n",
       "      <td>213180</td>\n",
       "      <td>MIDAGE SINGLES/COUPLES</td>\n",
       "      <td>Mainstream</td>\n",
       "      <td>43508</td>\n",
       "      <td>213</td>\n",
       "      <td>213073</td>\n",
       "      <td>46</td>\n",
       "      <td>Kettle Original 175g</td>\n",
       "      <td>2.0</td>\n",
       "      <td>10.8</td>\n",
       "    </tr>\n",
       "    <tr>\n",
       "      <th>217790</th>\n",
       "      <td>222140</td>\n",
       "      <td>OLDER SINGLES/COUPLES</td>\n",
       "      <td>Mainstream</td>\n",
       "      <td>43470</td>\n",
       "      <td>222</td>\n",
       "      <td>222307</td>\n",
       "      <td>86</td>\n",
       "      <td>Cheetos Puffs 165g</td>\n",
       "      <td>2.0</td>\n",
       "      <td>5.6</td>\n",
       "    </tr>\n",
       "    <tr>\n",
       "      <th>210315</th>\n",
       "      <td>215330</td>\n",
       "      <td>YOUNG SINGLES/COUPLES</td>\n",
       "      <td>Mainstream</td>\n",
       "      <td>43337</td>\n",
       "      <td>215</td>\n",
       "      <td>214643</td>\n",
       "      <td>74</td>\n",
       "      <td>Tostitos Splash Of  Lime 175g</td>\n",
       "      <td>2.0</td>\n",
       "      <td>8.8</td>\n",
       "    </tr>\n",
       "    <tr>\n",
       "      <th>156349</th>\n",
       "      <td>157187</td>\n",
       "      <td>OLDER FAMILIES</td>\n",
       "      <td>Budget</td>\n",
       "      <td>43633</td>\n",
       "      <td>157</td>\n",
       "      <td>159578</td>\n",
       "      <td>22</td>\n",
       "      <td>Thins Chips         Originl saltd 175g</td>\n",
       "      <td>2.0</td>\n",
       "      <td>6.6</td>\n",
       "    </tr>\n",
       "    <tr>\n",
       "      <th>27255</th>\n",
       "      <td>30216</td>\n",
       "      <td>YOUNG FAMILIES</td>\n",
       "      <td>Budget</td>\n",
       "      <td>43330</td>\n",
       "      <td>30</td>\n",
       "      <td>27847</td>\n",
       "      <td>43</td>\n",
       "      <td>Smith Crinkle Cut   Bolognese 150g</td>\n",
       "      <td>1.0</td>\n",
       "      <td>2.6</td>\n",
       "    </tr>\n",
       "    <tr>\n",
       "      <th>140208</th>\n",
       "      <td>142255</td>\n",
       "      <td>YOUNG SINGLES/COUPLES</td>\n",
       "      <td>Premium</td>\n",
       "      <td>43619</td>\n",
       "      <td>142</td>\n",
       "      <td>143105</td>\n",
       "      <td>74</td>\n",
       "      <td>Tostitos Splash Of  Lime 175g</td>\n",
       "      <td>2.0</td>\n",
       "      <td>8.8</td>\n",
       "    </tr>\n",
       "    <tr>\n",
       "      <th>40231</th>\n",
       "      <td>45121</td>\n",
       "      <td>MIDAGE SINGLES/COUPLES</td>\n",
       "      <td>Mainstream</td>\n",
       "      <td>43385</td>\n",
       "      <td>45</td>\n",
       "      <td>41088</td>\n",
       "      <td>47</td>\n",
       "      <td>Doritos Corn Chips  Original 170g</td>\n",
       "      <td>2.0</td>\n",
       "      <td>8.8</td>\n",
       "    </tr>\n",
       "    <tr>\n",
       "      <th>69155</th>\n",
       "      <td>72000</td>\n",
       "      <td>RETIREES</td>\n",
       "      <td>Budget</td>\n",
       "      <td>43637</td>\n",
       "      <td>72</td>\n",
       "      <td>70596</td>\n",
       "      <td>51</td>\n",
       "      <td>Doritos Mexicana    170g</td>\n",
       "      <td>2.0</td>\n",
       "      <td>8.8</td>\n",
       "    </tr>\n",
       "    <tr>\n",
       "      <th>56890</th>\n",
       "      <td>62052</td>\n",
       "      <td>OLDER FAMILIES</td>\n",
       "      <td>Mainstream</td>\n",
       "      <td>43497</td>\n",
       "      <td>62</td>\n",
       "      <td>58084</td>\n",
       "      <td>24</td>\n",
       "      <td>Grain Waves         Sweet Chilli 210g</td>\n",
       "      <td>2.0</td>\n",
       "      <td>7.2</td>\n",
       "    </tr>\n",
       "  </tbody>\n",
       "</table>\n",
       "</div>"
      ],
      "text/plain": [
       "        LYLTY_CARD_NBR               LIFESTAGE PREMIUM_CUSTOMER   DATE  \\\n",
       "18347            23003   OLDER SINGLES/COUPLES       Mainstream  43314   \n",
       "208768          213180  MIDAGE SINGLES/COUPLES       Mainstream  43508   \n",
       "217790          222140   OLDER SINGLES/COUPLES       Mainstream  43470   \n",
       "210315          215330   YOUNG SINGLES/COUPLES       Mainstream  43337   \n",
       "156349          157187          OLDER FAMILIES           Budget  43633   \n",
       "27255            30216          YOUNG FAMILIES           Budget  43330   \n",
       "140208          142255   YOUNG SINGLES/COUPLES          Premium  43619   \n",
       "40231            45121  MIDAGE SINGLES/COUPLES       Mainstream  43385   \n",
       "69155            72000                RETIREES           Budget  43637   \n",
       "56890            62052          OLDER FAMILIES       Mainstream  43497   \n",
       "\n",
       "        STORE_NBR  TXN_ID  PROD_NBR                               PROD_NAME  \\\n",
       "18347          23   18756        18          Cheetos Chs & Bacon Balls 190g   \n",
       "208768        213  213073        46                    Kettle Original 175g   \n",
       "217790        222  222307        86                      Cheetos Puffs 165g   \n",
       "210315        215  214643        74           Tostitos Splash Of  Lime 175g   \n",
       "156349        157  159578        22  Thins Chips         Originl saltd 175g   \n",
       "27255          30   27847        43      Smith Crinkle Cut   Bolognese 150g   \n",
       "140208        142  143105        74           Tostitos Splash Of  Lime 175g   \n",
       "40231          45   41088        47       Doritos Corn Chips  Original 170g   \n",
       "69155          72   70596        51                Doritos Mexicana    170g   \n",
       "56890          62   58084        24   Grain Waves         Sweet Chilli 210g   \n",
       "\n",
       "        PROD_QTY  TOT_SALES  \n",
       "18347        2.0        6.6  \n",
       "208768       2.0       10.8  \n",
       "217790       2.0        5.6  \n",
       "210315       2.0        8.8  \n",
       "156349       2.0        6.6  \n",
       "27255        1.0        2.6  \n",
       "140208       2.0        8.8  \n",
       "40231        2.0        8.8  \n",
       "69155        2.0        8.8  \n",
       "56890        2.0        7.2  "
      ]
     },
     "execution_count": 15,
     "metadata": {},
     "output_type": "execute_result"
    }
   ],
   "source": [
    "merged_data = pd.merge(df1, df2, on = 'LYLTY_CARD_NBR', how = 'inner')\n",
    "merged_data.sample(10)"
   ]
  },
  {
   "cell_type": "code",
   "execution_count": 16,
   "id": "302ab053-3a9b-4389-a2b4-e328fd042296",
   "metadata": {
    "tags": []
   },
   "outputs": [],
   "source": [
    "df = merged_data.copy()"
   ]
  },
  {
   "cell_type": "markdown",
   "id": "66b99e28-f2d7-4d93-9ff0-56bd4adc8973",
   "metadata": {},
   "source": [
    "## Exploratory Data Analysis"
   ]
  },
  {
   "cell_type": "code",
   "execution_count": 17,
   "id": "6d10ee1f-9e45-4fac-a588-848cb8168785",
   "metadata": {
    "tags": []
   },
   "outputs": [
    {
     "name": "stdout",
     "output_type": "stream",
     "text": [
      "<class 'pandas.core.frame.DataFrame'>\n",
      "Int64Index: 264836 entries, 0 to 264835\n",
      "Data columns (total 10 columns):\n",
      " #   Column            Non-Null Count   Dtype  \n",
      "---  ------            --------------   -----  \n",
      " 0   LYLTY_CARD_NBR    264836 non-null  int64  \n",
      " 1   LIFESTAGE         264836 non-null  object \n",
      " 2   PREMIUM_CUSTOMER  264836 non-null  object \n",
      " 3   DATE              264836 non-null  int64  \n",
      " 4   STORE_NBR         264836 non-null  int64  \n",
      " 5   TXN_ID            264836 non-null  int64  \n",
      " 6   PROD_NBR          264836 non-null  int64  \n",
      " 7   PROD_NAME         264836 non-null  object \n",
      " 8   PROD_QTY          264836 non-null  float64\n",
      " 9   TOT_SALES         264836 non-null  float64\n",
      "dtypes: float64(2), int64(5), object(3)\n",
      "memory usage: 22.2+ MB\n"
     ]
    }
   ],
   "source": [
    "df.info()"
   ]
  },
  {
   "cell_type": "markdown",
   "id": "d9e1d894-a4aa-463b-891c-34b8490a7f57",
   "metadata": {
    "tags": []
   },
   "source": [
    "**Several Questions i want to ask ?**\n",
    "1. How Many Chips were Sale ? \n",
    "2. How Many Sale were Sale ? \n",
    "3. How Many customer group based on premium ? \n",
    "4. How Many customer group based on lifestage ? \n",
    "5. Which product has highest total sales ?\n",
    "6. Which customer group based on premium has highest total sales ? \n",
    "7. Which customer gorup based on lifestage has highest total sales ? \n",
    "8. Which Store has highest total sales ? "
   ]
  },
  {
   "cell_type": "code",
   "execution_count": 18,
   "id": "11a31969-8537-4e11-9c7e-e87d6010c31b",
   "metadata": {
    "tags": []
   },
   "outputs": [
    {
     "name": "stdout",
     "output_type": "stream",
     "text": [
      "              count      mean       std  min  25%  50%  75%   max\n",
      "PROD_QTY   264836.0  1.896094  0.305139  1.0  2.0  2.0  2.0   2.0\n",
      "TOT_SALES  264836.0  7.272554  2.453754  1.5  5.4  7.4  8.8  14.8\n",
      "Total Chips Saled    : 502154.0 Chips \n",
      "Total Sales Made     : $1926034.1500000006\n"
     ]
    }
   ],
   "source": [
    "# How many chips were saled ? \n",
    "# Howm any Sales were made ? \n",
    "print(df[['PROD_QTY', 'TOT_SALES']].describe().T)\n",
    "print(f\"Total Chips Saled    : {df['PROD_QTY'].sum()} Chips \")\n",
    "print(f\"Total Sales Made     : ${df['TOT_SALES'].sum()}\")"
   ]
  },
  {
   "cell_type": "markdown",
   "id": "f160cd72-1b5a-4158-94e1-cead567ddb8d",
   "metadata": {},
   "source": [
    "**Insight**\n",
    "- Total Chips saled reach 505.124 Chips or half 1 million chips !\n",
    "- Total Chip revenue was reach $1.934.414 "
   ]
  },
  {
   "cell_type": "code",
   "execution_count": 19,
   "id": "cf0c707d-2ded-4a60-bb6d-6185ca7b6bfc",
   "metadata": {
    "tags": []
   },
   "outputs": [],
   "source": [
    "# function to annotate the label number in visualization\n",
    "def add_values(ax): \n",
    "    for p in ax.patches:\n",
    "        ax.annotate(format(p.get_height(), '.0f'), \n",
    "                (p.get_x() + p.get_width() / 2., p.get_height()), \n",
    "                ha = 'center', va = 'center', \n",
    "                xytext = (0, 10), \n",
    "                textcoords = 'offset points')"
   ]
  },
  {
   "cell_type": "code",
   "execution_count": 20,
   "id": "9c7f5a60-e1aa-4836-a03a-ffae949fe23b",
   "metadata": {
    "tags": []
   },
   "outputs": [
    {
     "data": {
      "image/png": "[encoded data removed]",
      "text/plain": [
       "<Figure size 800x600 with 1 Axes>"
      ]
     },
     "metadata": {},
     "output_type": "display_data"
    }
   ],
   "source": [
    "# How Many Customer based on Premium ?\n",
    "ax, fig = plt.subplots(figsize = (8, 6))\n",
    "\n",
    "plt.title('Premium Customer')\n",
    "ax = sns.countplot(x = df['PREMIUM_CUSTOMER'])\n",
    "ax.set_xlabel('')\n",
    "ax.set_ylabel('')\n",
    "\n",
    "add_values(ax)\n",
    "plt.show()"
   ]
  },
  {
   "cell_type": "markdown",
   "id": "806273ff-1698-4797-ace4-909b50a139ad",
   "metadata": {},
   "source": [
    "**Insights**\n",
    "- Customer who buy premium membership reach 69,691 people or ~26 % of total customer who buy chips\n",
    "- There is 101,988 people who haven't buy membership or ~ 38 % of total customer who buy chips"
   ]
  },
  {
   "cell_type": "code",
   "execution_count": 21,
   "id": "1d47928f-cc79-4d0b-aa53-06e68e6af24c",
   "metadata": {
    "tags": []
   },
   "outputs": [
    {
     "data": {
      "image/png": "[encoded data removed]",
      "text/plain": [
       "<Figure size 800x600 with 1 Axes>"
      ]
     },
     "metadata": {},
     "output_type": "display_data"
    }
   ],
   "source": [
    "# How Many Customer based on Premium ?\n",
    "ax, fig = plt.subplots(figsize = (8, 6))\n",
    "\n",
    "ax = sns.countplot(x=df['LIFESTAGE'])\n",
    "\n",
    "plt.title('Customer Lifestage')\n",
    "for label in ax.get_xticklabels():\n",
    "    label.set_rotation(90)\n",
    "\n",
    "ax.set_xlabel('')\n",
    "ax.set_ylabel('')\n",
    "add_values(ax)\n",
    "\n",
    "plt.show()"
   ]
  },
  {
   "cell_type": "markdown",
   "id": "086e79fd-0309-4aef-8227-4bbcb374331f",
   "metadata": {},
   "source": [
    "**Insights** \n",
    "- Customer who buy chips mainly came from Older Single / Couples (~20%) and Retirees (~18%)\n",
    "- People who buy chips because they have many free time or in this case elder"
   ]
  },
  {
   "cell_type": "code",
   "execution_count": 22,
   "id": "3722d2c1-9bb4-4d63-af70-9a0a56ca5a8e",
   "metadata": {
    "tags": []
   },
   "outputs": [],
   "source": [
    "# Make sure number of Product and Product Name has same number of unique values. It means there is no mispelled product name\n",
    "\n",
    "# len(df['PROD_NAME'].unique())\n",
    "# len(df['PROD_NBR'].unique())"
   ]
  },
  {
   "cell_type": "code",
   "execution_count": 23,
   "id": "ce112569-5cb7-4b52-89ac-3e153178d035",
   "metadata": {
    "tags": []
   },
   "outputs": [
    {
     "data": {
      "image/png": "[encoded data removed]",
      "text/plain": [
       "<Figure size 800x600 with 1 Axes>"
      ]
     },
     "metadata": {},
     "output_type": "display_data"
    }
   ],
   "source": [
    "# Which product has highest total sales \n",
    "ax, fig = plt.subplots(figsize = (8, 6))\n",
    "\n",
    "product_sales = df.groupby('PROD_NAME')['TOT_SALES'].sum().reset_index()\n",
    "top_product_sales = product_sales[0:10].sort_values(by = 'TOT_SALES', ascending=False)\n",
    "\n",
    "# Create a bar plot\n",
    "ax = sns.barplot(x='PROD_NAME', y='TOT_SALES', data=top_product_sales)\n",
    "\n",
    "plt.title('Total Chips Revenue by Product Name')\n",
    "\n",
    "for label in ax.get_xticklabels():\n",
    "    label.set_rotation(90)\n",
    "ax.set_xlabel('')\n",
    "ax.set_ylabel('Total Sales ($)')\n",
    "add_values(ax)\n",
    "\n",
    "plt.show()"
   ]
  },
  {
   "cell_type": "markdown",
   "id": "f50855ae-0d58-4505-bec0-e9018c41ff1b",
   "metadata": {},
   "source": [
    "**Insights**\n",
    "- Cheezels Cheese 330 g has highest revenue with $34,006 \n",
    "- From top 10 product, 4 has cheesy flavour, it shows that many people like cheese for chips flavour"
   ]
  },
  {
   "cell_type": "code",
   "execution_count": 24,
   "id": "3292a0ab-e356-408c-a4e8-e95c4e6ac7ff",
   "metadata": {
    "tags": []
   },
   "outputs": [
    {
     "data": {
      "text/html": [
       "<div>\n",
       "<style scoped>\n",
       "    .dataframe tbody tr th:only-of-type {\n",
       "        vertical-align: middle;\n",
       "    }\n",
       "\n",
       "    .dataframe tbody tr th {\n",
       "        vertical-align: top;\n",
       "    }\n",
       "\n",
       "    .dataframe thead th {\n",
       "        text-align: right;\n",
       "    }\n",
       "</style>\n",
       "<table border=\"1\" class=\"dataframe\">\n",
       "  <thead>\n",
       "    <tr style=\"text-align: right;\">\n",
       "      <th></th>\n",
       "      <th>PREMIUM_CUSTOMER</th>\n",
       "      <th>TOT_SALES</th>\n",
       "    </tr>\n",
       "  </thead>\n",
       "  <tbody>\n",
       "    <tr>\n",
       "      <th>1</th>\n",
       "      <td>Mainstream</td>\n",
       "      <td>748089.05</td>\n",
       "    </tr>\n",
       "    <tr>\n",
       "      <th>0</th>\n",
       "      <td>Budget</td>\n",
       "      <td>673569.40</td>\n",
       "    </tr>\n",
       "    <tr>\n",
       "      <th>2</th>\n",
       "      <td>Premium</td>\n",
       "      <td>504375.70</td>\n",
       "    </tr>\n",
       "  </tbody>\n",
       "</table>\n",
       "</div>"
      ],
      "text/plain": [
       "  PREMIUM_CUSTOMER  TOT_SALES\n",
       "1       Mainstream  748089.05\n",
       "0           Budget  673569.40\n",
       "2          Premium  504375.70"
      ]
     },
     "execution_count": 24,
     "metadata": {},
     "output_type": "execute_result"
    }
   ],
   "source": [
    "# Which Customer Group based on Premium has highest number pf sales ? \n",
    "premium_sales = df.groupby('PREMIUM_CUSTOMER')['TOT_SALES'].sum().reset_index()\n",
    "premium_sales.sort_values(by = 'TOT_SALES', ascending=False)"
   ]
  },
  {
   "cell_type": "markdown",
   "id": "7f84fa23-a88d-4876-a215-455d0b58b2a6",
   "metadata": {},
   "source": [
    "**Insights**\n",
    "- Highest revenue come Customer who don't buy membership. Because the number of main stream customer larger than other customer \n",
    "- People who buy premium membership have relatively high revenue if compared to number of them. Shows potential increasing revenue if people who buy membership increasing"
   ]
  },
  {
   "cell_type": "code",
   "execution_count": 25,
   "id": "081d6d14-638c-45d2-b0f2-0c7f804f3238",
   "metadata": {
    "tags": []
   },
   "outputs": [
    {
     "data": {
      "text/html": [
       "<div>\n",
       "<style scoped>\n",
       "    .dataframe tbody tr th:only-of-type {\n",
       "        vertical-align: middle;\n",
       "    }\n",
       "\n",
       "    .dataframe tbody tr th {\n",
       "        vertical-align: top;\n",
       "    }\n",
       "\n",
       "    .dataframe thead th {\n",
       "        text-align: right;\n",
       "    }\n",
       "</style>\n",
       "<table border=\"1\" class=\"dataframe\">\n",
       "  <thead>\n",
       "    <tr style=\"text-align: right;\">\n",
       "      <th></th>\n",
       "      <th>LIFESTAGE</th>\n",
       "      <th>TOT_SALES</th>\n",
       "    </tr>\n",
       "  </thead>\n",
       "  <tbody>\n",
       "    <tr>\n",
       "      <th>3</th>\n",
       "      <td>OLDER SINGLES/COUPLES</td>\n",
       "      <td>400866.55</td>\n",
       "    </tr>\n",
       "    <tr>\n",
       "      <th>4</th>\n",
       "      <td>RETIREES</td>\n",
       "      <td>365270.65</td>\n",
       "    </tr>\n",
       "    <tr>\n",
       "      <th>2</th>\n",
       "      <td>OLDER FAMILIES</td>\n",
       "      <td>350907.25</td>\n",
       "    </tr>\n",
       "    <tr>\n",
       "      <th>5</th>\n",
       "      <td>YOUNG FAMILIES</td>\n",
       "      <td>314896.05</td>\n",
       "    </tr>\n",
       "    <tr>\n",
       "      <th>6</th>\n",
       "      <td>YOUNG SINGLES/COUPLES</td>\n",
       "      <td>259754.40</td>\n",
       "    </tr>\n",
       "    <tr>\n",
       "      <th>0</th>\n",
       "      <td>MIDAGE SINGLES/COUPLES</td>\n",
       "      <td>184019.55</td>\n",
       "    </tr>\n",
       "    <tr>\n",
       "      <th>1</th>\n",
       "      <td>NEW FAMILIES</td>\n",
       "      <td>50319.70</td>\n",
       "    </tr>\n",
       "  </tbody>\n",
       "</table>\n",
       "</div>"
      ],
      "text/plain": [
       "                LIFESTAGE  TOT_SALES\n",
       "3   OLDER SINGLES/COUPLES  400866.55\n",
       "4                RETIREES  365270.65\n",
       "2          OLDER FAMILIES  350907.25\n",
       "5          YOUNG FAMILIES  314896.05\n",
       "6   YOUNG SINGLES/COUPLES  259754.40\n",
       "0  MIDAGE SINGLES/COUPLES  184019.55\n",
       "1            NEW FAMILIES   50319.70"
      ]
     },
     "execution_count": 25,
     "metadata": {},
     "output_type": "execute_result"
    }
   ],
   "source": [
    "# Which Customer Group Based on Life Stage has hignest number of sales\n",
    "lifestage_sales = df.groupby('LIFESTAGE')['TOT_SALES'].sum().reset_index()\n",
    "lifestage_sales.sort_values(by = 'TOT_SALES', ascending=False)"
   ]
  },
  {
   "cell_type": "markdown",
   "id": "0f9f67f6-9961-466e-8bb3-c4f20698dcd8",
   "metadata": {},
   "source": [
    "**Insights** \n",
    "- Older Single Couples and Retirees both were have highest revenue "
   ]
  },
  {
   "cell_type": "markdown",
   "id": "eb494f2a-e5e8-4389-9b4d-27d8055180fc",
   "metadata": {},
   "source": [
    "## Recommendation"
   ]
  },
  {
   "cell_type": "markdown",
   "id": "78ed217f-9840-4581-ba43-b133e33d6545",
   "metadata": {},
   "source": [
    "- Create marketing program that spread message about how chips could become a good friend when relaxing / chilling. So it can targetted elderly and young customer at the same time\n",
    "- Cheese flavour become the most favorite flavour of chips. There is need another innovation idea from the cheese flavour so attract more interest of customer who like cheese or customer who don't\n",
    "- Attract other people to become a member by adding another benefits that suited with elderly customer"
   ]
  }
 ],
 "metadata": {
  "kernelspec": {
   "display_name": "Python 3 (ipykernel)",
   "language": "python",
   "name": "python3"
  },
  "language_info": {
   "codemirror_mode": {
    "name": "ipython",
    "version": 3
   },
   "file_extension": ".py",
   "mimetype": "text/x-python",
   "name": "python",
   "nbconvert_exporter": "python",
   "pygments_lexer": "ipython3",
   "version": "3.9.13"
  }
 },
 "nbformat": 4,
 "nbformat_minor": 5
}

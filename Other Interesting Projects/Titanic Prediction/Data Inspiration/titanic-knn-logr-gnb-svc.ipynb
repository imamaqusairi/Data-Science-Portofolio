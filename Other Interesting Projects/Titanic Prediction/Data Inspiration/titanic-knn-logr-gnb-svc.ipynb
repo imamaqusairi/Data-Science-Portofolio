{
 "cells": [
  {
   "cell_type": "code",
   "execution_count": 1,
   "id": "98e27ddb",
   "metadata": {
    "_cell_guid": "b1076dfc-b9ad-4769-8c92-a6c4dae69d19",
    "_uuid": "8f2839f25d086af736a60e9eeb907d3b93b6e0e5",
    "execution": {
     "iopub.execute_input": "2022-12-23T05:04:44.459767Z",
     "iopub.status.busy": "2022-12-23T05:04:44.459185Z",
     "iopub.status.idle": "2022-12-23T05:04:44.474948Z",
     "shell.execute_reply": "2022-12-23T05:04:44.473898Z"
    },
    "papermill": {
     "duration": 0.033262,
     "end_time": "2022-12-23T05:04:44.478379",
     "exception": false,
     "start_time": "2022-12-23T05:04:44.445117",
     "status": "completed"
    },
    "tags": []
   },
   "outputs": [
    {
     "name": "stdout",
     "output_type": "stream",
     "text": [
      "/kaggle/input/titanic/train.csv\n",
      "/kaggle/input/titanic/test.csv\n",
      "/kaggle/input/titanic/gender_submission.csv\n"
     ]
    }
   ],
   "source": [
    "# This Python 3 environment comes with many helpful analytics libraries installed\n",
    "# It is defined by the kaggle/python Docker image: https://github.com/kaggle/docker-python\n",
    "# For example, here's several helpful packages to load\n",
    "\n",
    "import numpy as np # linear algebra\n",
    "import pandas as pd # data processing, CSV file I/O (e.g. pd.read_csv)\n",
    "\n",
    "# Input data files are available in the read-only \"../input/\" directory\n",
    "# For example, running this (by clicking run or pressing Shift+Enter) will list all files under the input directory\n",
    "\n",
    "import os\n",
    "for dirname, _, filenames in os.walk('/kaggle/input'):\n",
    "    for filename in filenames:\n",
    "        print(os.path.join(dirname, filename))\n",
    "\n",
    "# You can write up to 20GB to the current directory (/kaggle/working/) that gets preserved as output when you create a version using \"Save & Run All\" \n",
    "# You can also write temporary files to /kaggle/temp/, but they won't be saved outside of the current session"
   ]
  },
  {
   "cell_type": "code",
   "execution_count": 2,
   "id": "7dca7d89",
   "metadata": {
    "execution": {
     "iopub.execute_input": "2022-12-23T05:04:44.501735Z",
     "iopub.status.busy": "2022-12-23T05:04:44.501309Z",
     "iopub.status.idle": "2022-12-23T05:04:45.719666Z",
     "shell.execute_reply": "2022-12-23T05:04:45.718017Z"
    },
    "papermill": {
     "duration": 1.233482,
     "end_time": "2022-12-23T05:04:45.722831",
     "exception": false,
     "start_time": "2022-12-23T05:04:44.489349",
     "status": "completed"
    },
    "tags": []
   },
   "outputs": [],
   "source": [
    "import seaborn as sns\n",
    "import matplotlib.pyplot as plt\n",
    "import warnings\n",
    "warnings.filterwarnings('ignore')"
   ]
  },
  {
   "cell_type": "code",
   "execution_count": 3,
   "id": "f8ba91fc",
   "metadata": {
    "execution": {
     "iopub.execute_input": "2022-12-23T05:04:45.747859Z",
     "iopub.status.busy": "2022-12-23T05:04:45.747363Z",
     "iopub.status.idle": "2022-12-23T05:04:45.771650Z",
     "shell.execute_reply": "2022-12-23T05:04:45.770017Z"
    },
    "papermill": {
     "duration": 0.040341,
     "end_time": "2022-12-23T05:04:45.774460",
     "exception": false,
     "start_time": "2022-12-23T05:04:45.734119",
     "status": "completed"
    },
    "tags": []
   },
   "outputs": [],
   "source": [
    "df=pd.read_csv('/kaggle/input/titanic/train.csv')"
   ]
  },
  {
   "cell_type": "code",
   "execution_count": 4,
   "id": "88d9dcd8",
   "metadata": {
    "execution": {
     "iopub.execute_input": "2022-12-23T05:04:45.800021Z",
     "iopub.status.busy": "2022-12-23T05:04:45.799220Z",
     "iopub.status.idle": "2022-12-23T05:04:45.823140Z",
     "shell.execute_reply": "2022-12-23T05:04:45.822196Z"
    },
    "papermill": {
     "duration": 0.039182,
     "end_time": "2022-12-23T05:04:45.825455",
     "exception": false,
     "start_time": "2022-12-23T05:04:45.786273",
     "status": "completed"
    },
    "tags": []
   },
   "outputs": [
    {
     "data": {
      "text/html": [
       "<div>\n",
       "<style scoped>\n",
       "    .dataframe tbody tr th:only-of-type {\n",
       "        vertical-align: middle;\n",
       "    }\n",
       "\n",
       "    .dataframe tbody tr th {\n",
       "        vertical-align: top;\n",
       "    }\n",
       "\n",
       "    .dataframe thead th {\n",
       "        text-align: right;\n",
       "    }\n",
       "</style>\n",
       "<table border=\"1\" class=\"dataframe\">\n",
       "  <thead>\n",
       "    <tr style=\"text-align: right;\">\n",
       "      <th></th>\n",
       "      <th>PassengerId</th>\n",
       "      <th>Survived</th>\n",
       "      <th>Pclass</th>\n",
       "      <th>Name</th>\n",
       "      <th>Sex</th>\n",
       "      <th>Age</th>\n",
       "      <th>SibSp</th>\n",
       "      <th>Parch</th>\n",
       "      <th>Ticket</th>\n",
       "      <th>Fare</th>\n",
       "      <th>Cabin</th>\n",
       "      <th>Embarked</th>\n",
       "    </tr>\n",
       "  </thead>\n",
       "  <tbody>\n",
       "    <tr>\n",
       "      <th>0</th>\n",
       "      <td>1</td>\n",
       "      <td>0</td>\n",
       "      <td>3</td>\n",
       "      <td>Braund, Mr. Owen Harris</td>\n",
       "      <td>male</td>\n",
       "      <td>22.0</td>\n",
       "      <td>1</td>\n",
       "      <td>0</td>\n",
       "      <td>A/5 21171</td>\n",
       "      <td>7.2500</td>\n",
       "      <td>NaN</td>\n",
       "      <td>S</td>\n",
       "    </tr>\n",
       "    <tr>\n",
       "      <th>1</th>\n",
       "      <td>2</td>\n",
       "      <td>1</td>\n",
       "      <td>1</td>\n",
       "      <td>Cumings, Mrs. John Bradley (Florence Briggs Th...</td>\n",
       "      <td>female</td>\n",
       "      <td>38.0</td>\n",
       "      <td>1</td>\n",
       "      <td>0</td>\n",
       "      <td>PC 17599</td>\n",
       "      <td>71.2833</td>\n",
       "      <td>C85</td>\n",
       "      <td>C</td>\n",
       "    </tr>\n",
       "  </tbody>\n",
       "</table>\n",
       "</div>"
      ],
      "text/plain": [
       "   PassengerId  Survived  Pclass  \\\n",
       "0            1         0       3   \n",
       "1            2         1       1   \n",
       "\n",
       "                                                Name     Sex   Age  SibSp  \\\n",
       "0                            Braund, Mr. Owen Harris    male  22.0      1   \n",
       "1  Cumings, Mrs. John Bradley (Florence Briggs Th...  female  38.0      1   \n",
       "\n",
       "   Parch     Ticket     Fare Cabin Embarked  \n",
       "0      0  A/5 21171   7.2500   NaN        S  \n",
       "1      0   PC 17599  71.2833   C85        C  "
      ]
     },
     "execution_count": 4,
     "metadata": {},
     "output_type": "execute_result"
    }
   ],
   "source": [
    "df.head(2)"
   ]
  },
  {
   "cell_type": "code",
   "execution_count": 5,
   "id": "0d4c0139",
   "metadata": {
    "execution": {
     "iopub.execute_input": "2022-12-23T05:04:45.851855Z",
     "iopub.status.busy": "2022-12-23T05:04:45.850296Z",
     "iopub.status.idle": "2022-12-23T05:04:45.880849Z",
     "shell.execute_reply": "2022-12-23T05:04:45.878853Z"
    },
    "papermill": {
     "duration": 0.047692,
     "end_time": "2022-12-23T05:04:45.884170",
     "exception": false,
     "start_time": "2022-12-23T05:04:45.836478",
     "status": "completed"
    },
    "tags": []
   },
   "outputs": [
    {
     "name": "stdout",
     "output_type": "stream",
     "text": [
      "<class 'pandas.core.frame.DataFrame'>\n",
      "RangeIndex: 891 entries, 0 to 890\n",
      "Data columns (total 12 columns):\n",
      " #   Column       Non-Null Count  Dtype  \n",
      "---  ------       --------------  -----  \n",
      " 0   PassengerId  891 non-null    int64  \n",
      " 1   Survived     891 non-null    int64  \n",
      " 2   Pclass       891 non-null    int64  \n",
      " 3   Name         891 non-null    object \n",
      " 4   Sex          891 non-null    object \n",
      " 5   Age          714 non-null    float64\n",
      " 6   SibSp        891 non-null    int64  \n",
      " 7   Parch        891 non-null    int64  \n",
      " 8   Ticket       891 non-null    object \n",
      " 9   Fare         891 non-null    float64\n",
      " 10  Cabin        204 non-null    object \n",
      " 11  Embarked     889 non-null    object \n",
      "dtypes: float64(2), int64(5), object(5)\n",
      "memory usage: 83.7+ KB\n"
     ]
    }
   ],
   "source": [
    "df.info()"
   ]
  },
  {
   "cell_type": "code",
   "execution_count": 6,
   "id": "1a49e1bc",
   "metadata": {
    "execution": {
     "iopub.execute_input": "2022-12-23T05:04:45.910677Z",
     "iopub.status.busy": "2022-12-23T05:04:45.909385Z",
     "iopub.status.idle": "2022-12-23T05:04:45.921988Z",
     "shell.execute_reply": "2022-12-23T05:04:45.920467Z"
    },
    "papermill": {
     "duration": 0.028156,
     "end_time": "2022-12-23T05:04:45.924675",
     "exception": false,
     "start_time": "2022-12-23T05:04:45.896519",
     "status": "completed"
    },
    "tags": []
   },
   "outputs": [
    {
     "data": {
      "text/plain": [
       "PassengerId      0\n",
       "Survived         0\n",
       "Pclass           0\n",
       "Name             0\n",
       "Sex              0\n",
       "Age            177\n",
       "SibSp            0\n",
       "Parch            0\n",
       "Ticket           0\n",
       "Fare             0\n",
       "Cabin          687\n",
       "Embarked         2\n",
       "dtype: int64"
      ]
     },
     "execution_count": 6,
     "metadata": {},
     "output_type": "execute_result"
    }
   ],
   "source": [
    "df.isnull().sum()"
   ]
  },
  {
   "cell_type": "code",
   "execution_count": 7,
   "id": "ad7add76",
   "metadata": {
    "execution": {
     "iopub.execute_input": "2022-12-23T05:04:45.948481Z",
     "iopub.status.busy": "2022-12-23T05:04:45.947992Z",
     "iopub.status.idle": "2022-12-23T05:04:45.960973Z",
     "shell.execute_reply": "2022-12-23T05:04:45.959566Z"
    },
    "papermill": {
     "duration": 0.028196,
     "end_time": "2022-12-23T05:04:45.963579",
     "exception": false,
     "start_time": "2022-12-23T05:04:45.935383",
     "status": "completed"
    },
    "tags": []
   },
   "outputs": [
    {
     "data": {
      "text/plain": [
       "Pclass\n",
       "1    38.233441\n",
       "2    29.877630\n",
       "3    25.140620\n",
       "Name: Age, dtype: float64"
      ]
     },
     "execution_count": 7,
     "metadata": {},
     "output_type": "execute_result"
    }
   ],
   "source": [
    "df.groupby('Pclass')['Age'].mean()"
   ]
  },
  {
   "cell_type": "code",
   "execution_count": 8,
   "id": "dfa599dc",
   "metadata": {
    "execution": {
     "iopub.execute_input": "2022-12-23T05:04:45.987249Z",
     "iopub.status.busy": "2022-12-23T05:04:45.986854Z",
     "iopub.status.idle": "2022-12-23T05:04:45.995433Z",
     "shell.execute_reply": "2022-12-23T05:04:45.993917Z"
    },
    "papermill": {
     "duration": 0.023671,
     "end_time": "2022-12-23T05:04:45.997993",
     "exception": false,
     "start_time": "2022-12-23T05:04:45.974322",
     "status": "completed"
    },
    "tags": []
   },
   "outputs": [],
   "source": [
    "df['Age']=df['Age'].fillna(df.groupby('Pclass')['Age'].transform('mean'))"
   ]
  },
  {
   "cell_type": "code",
   "execution_count": 9,
   "id": "615b5a15",
   "metadata": {
    "execution": {
     "iopub.execute_input": "2022-12-23T05:04:46.022264Z",
     "iopub.status.busy": "2022-12-23T05:04:46.021866Z",
     "iopub.status.idle": "2022-12-23T05:04:46.030841Z",
     "shell.execute_reply": "2022-12-23T05:04:46.029588Z"
    },
    "papermill": {
     "duration": 0.024144,
     "end_time": "2022-12-23T05:04:46.033279",
     "exception": false,
     "start_time": "2022-12-23T05:04:46.009135",
     "status": "completed"
    },
    "tags": []
   },
   "outputs": [],
   "source": [
    "df.drop(['PassengerId','Name','Ticket','Cabin'],axis=1,inplace=True)"
   ]
  },
  {
   "cell_type": "code",
   "execution_count": 10,
   "id": "9af6dbbb",
   "metadata": {
    "execution": {
     "iopub.execute_input": "2022-12-23T05:04:46.057303Z",
     "iopub.status.busy": "2022-12-23T05:04:46.056855Z",
     "iopub.status.idle": "2022-12-23T05:04:46.068338Z",
     "shell.execute_reply": "2022-12-23T05:04:46.067054Z"
    },
    "papermill": {
     "duration": 0.026569,
     "end_time": "2022-12-23T05:04:46.070760",
     "exception": false,
     "start_time": "2022-12-23T05:04:46.044191",
     "status": "completed"
    },
    "tags": []
   },
   "outputs": [
    {
     "data": {
      "text/plain": [
       "Survived    0\n",
       "Pclass      0\n",
       "Sex         0\n",
       "Age         0\n",
       "SibSp       0\n",
       "Parch       0\n",
       "Fare        0\n",
       "Embarked    2\n",
       "dtype: int64"
      ]
     },
     "execution_count": 10,
     "metadata": {},
     "output_type": "execute_result"
    }
   ],
   "source": [
    "df.isnull().sum()"
   ]
  },
  {
   "cell_type": "code",
   "execution_count": 11,
   "id": "f3d84f7b",
   "metadata": {
    "execution": {
     "iopub.execute_input": "2022-12-23T05:04:46.094904Z",
     "iopub.status.busy": "2022-12-23T05:04:46.094424Z",
     "iopub.status.idle": "2022-12-23T05:04:46.104033Z",
     "shell.execute_reply": "2022-12-23T05:04:46.102858Z"
    },
    "papermill": {
     "duration": 0.024833,
     "end_time": "2022-12-23T05:04:46.106635",
     "exception": false,
     "start_time": "2022-12-23T05:04:46.081802",
     "status": "completed"
    },
    "tags": []
   },
   "outputs": [],
   "source": [
    "df.dropna(inplace=True)"
   ]
  },
  {
   "cell_type": "code",
   "execution_count": 12,
   "id": "960471a4",
   "metadata": {
    "execution": {
     "iopub.execute_input": "2022-12-23T05:04:46.135303Z",
     "iopub.status.busy": "2022-12-23T05:04:46.134723Z",
     "iopub.status.idle": "2022-12-23T05:04:46.180879Z",
     "shell.execute_reply": "2022-12-23T05:04:46.179673Z"
    },
    "papermill": {
     "duration": 0.065972,
     "end_time": "2022-12-23T05:04:46.183857",
     "exception": false,
     "start_time": "2022-12-23T05:04:46.117885",
     "status": "completed"
    },
    "tags": []
   },
   "outputs": [
    {
     "data": {
      "text/html": [
       "<div>\n",
       "<style scoped>\n",
       "    .dataframe tbody tr th:only-of-type {\n",
       "        vertical-align: middle;\n",
       "    }\n",
       "\n",
       "    .dataframe tbody tr th {\n",
       "        vertical-align: top;\n",
       "    }\n",
       "\n",
       "    .dataframe thead th {\n",
       "        text-align: right;\n",
       "    }\n",
       "</style>\n",
       "<table border=\"1\" class=\"dataframe\">\n",
       "  <thead>\n",
       "    <tr style=\"text-align: right;\">\n",
       "      <th></th>\n",
       "      <th>Survived</th>\n",
       "      <th>Pclass</th>\n",
       "      <th>Sex</th>\n",
       "      <th>Age</th>\n",
       "      <th>SibSp</th>\n",
       "      <th>Parch</th>\n",
       "      <th>Fare</th>\n",
       "      <th>Embarked</th>\n",
       "    </tr>\n",
       "  </thead>\n",
       "  <tbody>\n",
       "    <tr>\n",
       "      <th>count</th>\n",
       "      <td>889.000000</td>\n",
       "      <td>889.000000</td>\n",
       "      <td>889</td>\n",
       "      <td>889.000000</td>\n",
       "      <td>889.000000</td>\n",
       "      <td>889.000000</td>\n",
       "      <td>889.000000</td>\n",
       "      <td>889</td>\n",
       "    </tr>\n",
       "    <tr>\n",
       "      <th>unique</th>\n",
       "      <td>NaN</td>\n",
       "      <td>NaN</td>\n",
       "      <td>2</td>\n",
       "      <td>NaN</td>\n",
       "      <td>NaN</td>\n",
       "      <td>NaN</td>\n",
       "      <td>NaN</td>\n",
       "      <td>3</td>\n",
       "    </tr>\n",
       "    <tr>\n",
       "      <th>top</th>\n",
       "      <td>NaN</td>\n",
       "      <td>NaN</td>\n",
       "      <td>male</td>\n",
       "      <td>NaN</td>\n",
       "      <td>NaN</td>\n",
       "      <td>NaN</td>\n",
       "      <td>NaN</td>\n",
       "      <td>S</td>\n",
       "    </tr>\n",
       "    <tr>\n",
       "      <th>freq</th>\n",
       "      <td>NaN</td>\n",
       "      <td>NaN</td>\n",
       "      <td>577</td>\n",
       "      <td>NaN</td>\n",
       "      <td>NaN</td>\n",
       "      <td>NaN</td>\n",
       "      <td>NaN</td>\n",
       "      <td>644</td>\n",
       "    </tr>\n",
       "    <tr>\n",
       "      <th>mean</th>\n",
       "      <td>0.382452</td>\n",
       "      <td>2.311586</td>\n",
       "      <td>NaN</td>\n",
       "      <td>29.246290</td>\n",
       "      <td>0.524184</td>\n",
       "      <td>0.382452</td>\n",
       "      <td>32.096681</td>\n",
       "      <td>NaN</td>\n",
       "    </tr>\n",
       "    <tr>\n",
       "      <th>std</th>\n",
       "      <td>0.486260</td>\n",
       "      <td>0.834700</td>\n",
       "      <td>NaN</td>\n",
       "      <td>13.176451</td>\n",
       "      <td>1.103705</td>\n",
       "      <td>0.806761</td>\n",
       "      <td>49.697504</td>\n",
       "      <td>NaN</td>\n",
       "    </tr>\n",
       "    <tr>\n",
       "      <th>min</th>\n",
       "      <td>0.000000</td>\n",
       "      <td>1.000000</td>\n",
       "      <td>NaN</td>\n",
       "      <td>0.420000</td>\n",
       "      <td>0.000000</td>\n",
       "      <td>0.000000</td>\n",
       "      <td>0.000000</td>\n",
       "      <td>NaN</td>\n",
       "    </tr>\n",
       "    <tr>\n",
       "      <th>25%</th>\n",
       "      <td>0.000000</td>\n",
       "      <td>2.000000</td>\n",
       "      <td>NaN</td>\n",
       "      <td>22.000000</td>\n",
       "      <td>0.000000</td>\n",
       "      <td>0.000000</td>\n",
       "      <td>7.895800</td>\n",
       "      <td>NaN</td>\n",
       "    </tr>\n",
       "    <tr>\n",
       "      <th>50%</th>\n",
       "      <td>0.000000</td>\n",
       "      <td>3.000000</td>\n",
       "      <td>NaN</td>\n",
       "      <td>26.000000</td>\n",
       "      <td>0.000000</td>\n",
       "      <td>0.000000</td>\n",
       "      <td>14.454200</td>\n",
       "      <td>NaN</td>\n",
       "    </tr>\n",
       "    <tr>\n",
       "      <th>75%</th>\n",
       "      <td>1.000000</td>\n",
       "      <td>3.000000</td>\n",
       "      <td>NaN</td>\n",
       "      <td>36.500000</td>\n",
       "      <td>1.000000</td>\n",
       "      <td>0.000000</td>\n",
       "      <td>31.000000</td>\n",
       "      <td>NaN</td>\n",
       "    </tr>\n",
       "    <tr>\n",
       "      <th>max</th>\n",
       "      <td>1.000000</td>\n",
       "      <td>3.000000</td>\n",
       "      <td>NaN</td>\n",
       "      <td>80.000000</td>\n",
       "      <td>8.000000</td>\n",
       "      <td>6.000000</td>\n",
       "      <td>512.329200</td>\n",
       "      <td>NaN</td>\n",
       "    </tr>\n",
       "  </tbody>\n",
       "</table>\n",
       "</div>"
      ],
      "text/plain": [
       "          Survived      Pclass   Sex         Age       SibSp       Parch  \\\n",
       "count   889.000000  889.000000   889  889.000000  889.000000  889.000000   \n",
       "unique         NaN         NaN     2         NaN         NaN         NaN   \n",
       "top            NaN         NaN  male         NaN         NaN         NaN   \n",
       "freq           NaN         NaN   577         NaN         NaN         NaN   \n",
       "mean      0.382452    2.311586   NaN   29.246290    0.524184    0.382452   \n",
       "std       0.486260    0.834700   NaN   13.176451    1.103705    0.806761   \n",
       "min       0.000000    1.000000   NaN    0.420000    0.000000    0.000000   \n",
       "25%       0.000000    2.000000   NaN   22.000000    0.000000    0.000000   \n",
       "50%       0.000000    3.000000   NaN   26.000000    0.000000    0.000000   \n",
       "75%       1.000000    3.000000   NaN   36.500000    1.000000    0.000000   \n",
       "max       1.000000    3.000000   NaN   80.000000    8.000000    6.000000   \n",
       "\n",
       "              Fare Embarked  \n",
       "count   889.000000      889  \n",
       "unique         NaN        3  \n",
       "top            NaN        S  \n",
       "freq           NaN      644  \n",
       "mean     32.096681      NaN  \n",
       "std      49.697504      NaN  \n",
       "min       0.000000      NaN  \n",
       "25%       7.895800      NaN  \n",
       "50%      14.454200      NaN  \n",
       "75%      31.000000      NaN  \n",
       "max     512.329200      NaN  "
      ]
     },
     "execution_count": 12,
     "metadata": {},
     "output_type": "execute_result"
    }
   ],
   "source": [
    "df.describe(include='all')"
   ]
  },
  {
   "cell_type": "code",
   "execution_count": 13,
   "id": "b6f8171b",
   "metadata": {
    "execution": {
     "iopub.execute_input": "2022-12-23T05:04:46.209403Z",
     "iopub.status.busy": "2022-12-23T05:04:46.208459Z",
     "iopub.status.idle": "2022-12-23T05:04:46.396379Z",
     "shell.execute_reply": "2022-12-23T05:04:46.394585Z"
    },
    "papermill": {
     "duration": 0.204393,
     "end_time": "2022-12-23T05:04:46.399591",
     "exception": false,
     "start_time": "2022-12-23T05:04:46.195198",
     "status": "completed"
    },
    "tags": []
   },
   "outputs": [
    {
     "data": {
      "text/html": [
       "<div>\n",
       "<style scoped>\n",
       "    .dataframe tbody tr th:only-of-type {\n",
       "        vertical-align: middle;\n",
       "    }\n",
       "\n",
       "    .dataframe tbody tr th {\n",
       "        vertical-align: top;\n",
       "    }\n",
       "\n",
       "    .dataframe thead th {\n",
       "        text-align: right;\n",
       "    }\n",
       "</style>\n",
       "<table border=\"1\" class=\"dataframe\">\n",
       "  <thead>\n",
       "    <tr style=\"text-align: right;\">\n",
       "      <th></th>\n",
       "      <th>Survived</th>\n",
       "      <th>Pclass</th>\n",
       "      <th>Sex</th>\n",
       "      <th>Age</th>\n",
       "      <th>SibSp</th>\n",
       "      <th>Parch</th>\n",
       "      <th>Fare</th>\n",
       "      <th>Embarked</th>\n",
       "    </tr>\n",
       "  </thead>\n",
       "  <tbody>\n",
       "    <tr>\n",
       "      <th>0</th>\n",
       "      <td>0</td>\n",
       "      <td>3</td>\n",
       "      <td>1.0</td>\n",
       "      <td>22.0</td>\n",
       "      <td>1</td>\n",
       "      <td>0</td>\n",
       "      <td>7.2500</td>\n",
       "      <td>2.0</td>\n",
       "    </tr>\n",
       "    <tr>\n",
       "      <th>1</th>\n",
       "      <td>1</td>\n",
       "      <td>1</td>\n",
       "      <td>0.0</td>\n",
       "      <td>38.0</td>\n",
       "      <td>1</td>\n",
       "      <td>0</td>\n",
       "      <td>71.2833</td>\n",
       "      <td>0.0</td>\n",
       "    </tr>\n",
       "    <tr>\n",
       "      <th>2</th>\n",
       "      <td>1</td>\n",
       "      <td>3</td>\n",
       "      <td>0.0</td>\n",
       "      <td>26.0</td>\n",
       "      <td>0</td>\n",
       "      <td>0</td>\n",
       "      <td>7.9250</td>\n",
       "      <td>2.0</td>\n",
       "    </tr>\n",
       "    <tr>\n",
       "      <th>3</th>\n",
       "      <td>1</td>\n",
       "      <td>1</td>\n",
       "      <td>0.0</td>\n",
       "      <td>35.0</td>\n",
       "      <td>1</td>\n",
       "      <td>0</td>\n",
       "      <td>53.1000</td>\n",
       "      <td>2.0</td>\n",
       "    </tr>\n",
       "    <tr>\n",
       "      <th>4</th>\n",
       "      <td>0</td>\n",
       "      <td>3</td>\n",
       "      <td>1.0</td>\n",
       "      <td>35.0</td>\n",
       "      <td>0</td>\n",
       "      <td>0</td>\n",
       "      <td>8.0500</td>\n",
       "      <td>2.0</td>\n",
       "    </tr>\n",
       "  </tbody>\n",
       "</table>\n",
       "</div>"
      ],
      "text/plain": [
       "   Survived  Pclass  Sex   Age  SibSp  Parch     Fare  Embarked\n",
       "0         0       3  1.0  22.0      1      0   7.2500       2.0\n",
       "1         1       1  0.0  38.0      1      0  71.2833       0.0\n",
       "2         1       3  0.0  26.0      0      0   7.9250       2.0\n",
       "3         1       1  0.0  35.0      1      0  53.1000       2.0\n",
       "4         0       3  1.0  35.0      0      0   8.0500       2.0"
      ]
     },
     "execution_count": 13,
     "metadata": {},
     "output_type": "execute_result"
    }
   ],
   "source": [
    "from sklearn.preprocessing import OrdinalEncoder\n",
    "oe=OrdinalEncoder()\n",
    "df[['Sex','Embarked']]=oe.fit_transform(df[['Sex','Embarked']])\n",
    "df.head()"
   ]
  },
  {
   "cell_type": "code",
   "execution_count": 14,
   "id": "cb8d7607",
   "metadata": {
    "execution": {
     "iopub.execute_input": "2022-12-23T05:04:46.424289Z",
     "iopub.status.busy": "2022-12-23T05:04:46.423802Z",
     "iopub.status.idle": "2022-12-23T05:04:47.032132Z",
     "shell.execute_reply": "2022-12-23T05:04:47.030045Z"
    },
    "papermill": {
     "duration": 0.624155,
     "end_time": "2022-12-23T05:04:47.034970",
     "exception": false,
     "start_time": "2022-12-23T05:04:46.410815",
     "status": "completed"
    },
    "tags": []
   },
   "outputs": [
    {
     "data": {
      "image/png": "[encoded data removed]",
      "text/plain": [
       "<Figure size 720x288 with 2 Axes>"
      ]
     },
     "metadata": {
      "needs_background": "light"
     },
     "output_type": "display_data"
    }
   ],
   "source": [
    "plt.figure(figsize=(10,4))\n",
    "sns.heatmap(df.corr(),annot=True)\n",
    "plt.show()"
   ]
  },
  {
   "cell_type": "code",
   "execution_count": 15,
   "id": "4ec47647",
   "metadata": {
    "execution": {
     "iopub.execute_input": "2022-12-23T05:04:47.063197Z",
     "iopub.status.busy": "2022-12-23T05:04:47.062577Z",
     "iopub.status.idle": "2022-12-23T05:04:47.074234Z",
     "shell.execute_reply": "2022-12-23T05:04:47.072768Z"
    },
    "papermill": {
     "duration": 0.029213,
     "end_time": "2022-12-23T05:04:47.076845",
     "exception": false,
     "start_time": "2022-12-23T05:04:47.047632",
     "status": "completed"
    },
    "tags": []
   },
   "outputs": [],
   "source": [
    "df['Family']=df['SibSp']+df['Parch']\n",
    "df.drop(['SibSp','Parch'],axis=1,inplace=True)"
   ]
  },
  {
   "cell_type": "code",
   "execution_count": 16,
   "id": "ce3cf739",
   "metadata": {
    "execution": {
     "iopub.execute_input": "2022-12-23T05:04:47.105081Z",
     "iopub.status.busy": "2022-12-23T05:04:47.104398Z",
     "iopub.status.idle": "2022-12-23T05:04:47.112384Z",
     "shell.execute_reply": "2022-12-23T05:04:47.110805Z"
    },
    "papermill": {
     "duration": 0.024695,
     "end_time": "2022-12-23T05:04:47.114765",
     "exception": false,
     "start_time": "2022-12-23T05:04:47.090070",
     "status": "completed"
    },
    "tags": []
   },
   "outputs": [],
   "source": [
    "x=df.iloc[:,1:]\n",
    "y=df.iloc[:,0]"
   ]
  },
  {
   "cell_type": "code",
   "execution_count": 17,
   "id": "0e0eca65",
   "metadata": {
    "execution": {
     "iopub.execute_input": "2022-12-23T05:04:47.148606Z",
     "iopub.status.busy": "2022-12-23T05:04:47.148102Z",
     "iopub.status.idle": "2022-12-23T05:04:47.157851Z",
     "shell.execute_reply": "2022-12-23T05:04:47.156361Z"
    },
    "papermill": {
     "duration": 0.033895,
     "end_time": "2022-12-23T05:04:47.160644",
     "exception": false,
     "start_time": "2022-12-23T05:04:47.126749",
     "status": "completed"
    },
    "tags": []
   },
   "outputs": [
    {
     "data": {
      "text/plain": [
       "0    549\n",
       "1    340\n",
       "Name: Survived, dtype: int64"
      ]
     },
     "execution_count": 17,
     "metadata": {},
     "output_type": "execute_result"
    }
   ],
   "source": [
    "y.value_counts()"
   ]
  },
  {
   "cell_type": "code",
   "execution_count": 18,
   "id": "3a607126",
   "metadata": {
    "execution": {
     "iopub.execute_input": "2022-12-23T05:04:47.199440Z",
     "iopub.status.busy": "2022-12-23T05:04:47.198879Z",
     "iopub.status.idle": "2022-12-23T05:04:47.271978Z",
     "shell.execute_reply": "2022-12-23T05:04:47.270665Z"
    },
    "papermill": {
     "duration": 0.099871,
     "end_time": "2022-12-23T05:04:47.275187",
     "exception": false,
     "start_time": "2022-12-23T05:04:47.175316",
     "status": "completed"
    },
    "tags": []
   },
   "outputs": [],
   "source": [
    "from sklearn.model_selection import train_test_split\n",
    "xtrain,xtest,ytrain,ytest=train_test_split(x,y,random_state=1,test_size=0.2,stratify=y)"
   ]
  },
  {
   "cell_type": "code",
   "execution_count": 19,
   "id": "630b108f",
   "metadata": {
    "execution": {
     "iopub.execute_input": "2022-12-23T05:04:47.305332Z",
     "iopub.status.busy": "2022-12-23T05:04:47.303799Z",
     "iopub.status.idle": "2022-12-23T05:04:47.514371Z",
     "shell.execute_reply": "2022-12-23T05:04:47.513196Z"
    },
    "papermill": {
     "duration": 0.227793,
     "end_time": "2022-12-23T05:04:47.517035",
     "exception": false,
     "start_time": "2022-12-23T05:04:47.289242",
     "status": "completed"
    },
    "tags": []
   },
   "outputs": [],
   "source": [
    "from sklearn.neighbors import KNeighborsClassifier\n",
    "from sklearn.linear_model import LogisticRegression\n",
    "from sklearn.naive_bayes import GaussianNB\n",
    "from sklearn.svm import SVC\n",
    "\n",
    "knn=KNeighborsClassifier()\n",
    "lr=LogisticRegression()\n",
    "gnb=GaussianNB()\n",
    "svc=SVC()\n",
    "\n",
    "knn.fit(xtrain,ytrain)\n",
    "lr.fit(xtrain,ytrain)\n",
    "gnb.fit(xtrain,ytrain)\n",
    "svc.fit(xtrain,ytrain)\n",
    "\n",
    "knnpred=knn.predict(xtest)\n",
    "lrpred=lr.predict(xtest)\n",
    "gnbpred=gnb.predict(xtest)\n",
    "svcpred=svc.predict(xtest)"
   ]
  },
  {
   "cell_type": "code",
   "execution_count": 20,
   "id": "2228a26c",
   "metadata": {
    "execution": {
     "iopub.execute_input": "2022-12-23T05:04:47.546954Z",
     "iopub.status.busy": "2022-12-23T05:04:47.544588Z",
     "iopub.status.idle": "2022-12-23T05:04:47.651375Z",
     "shell.execute_reply": "2022-12-23T05:04:47.649214Z"
    },
    "papermill": {
     "duration": 0.123279,
     "end_time": "2022-12-23T05:04:47.654335",
     "exception": false,
     "start_time": "2022-12-23T05:04:47.531056",
     "status": "completed"
    },
    "tags": []
   },
   "outputs": [
    {
     "name": "stdout",
     "output_type": "stream",
     "text": [
      "KNN Score\n",
      "Accuracy: 0.7415730337078652\n",
      "[[87 23]\n",
      " [23 45]]\n",
      "              precision    recall  f1-score   support\n",
      "\n",
      "           0       0.79      0.79      0.79       110\n",
      "           1       0.66      0.66      0.66        68\n",
      "\n",
      "    accuracy                           0.74       178\n",
      "   macro avg       0.73      0.73      0.73       178\n",
      "weighted avg       0.74      0.74      0.74       178\n",
      "\n",
      "Training Accuracy: 0.7819971870604782\n",
      "Testing Accuracy: 0.7415730337078652\n",
      "\n",
      "LogisticRegression Score\n",
      "Accuracy: 0.8089887640449438\n",
      "[[94 16]\n",
      " [18 50]]\n",
      "              precision    recall  f1-score   support\n",
      "\n",
      "           0       0.84      0.85      0.85       110\n",
      "           1       0.76      0.74      0.75        68\n",
      "\n",
      "    accuracy                           0.81       178\n",
      "   macro avg       0.80      0.79      0.80       178\n",
      "weighted avg       0.81      0.81      0.81       178\n",
      "\n",
      "Training Accuracy: 0.8045007032348804\n",
      "Testing Accuracy: 0.8089887640449438\n",
      "\n",
      "GaussianNB Score\n",
      "Accuracy: 0.8089887640449438\n",
      "[[93 17]\n",
      " [17 51]]\n",
      "              precision    recall  f1-score   support\n",
      "\n",
      "           0       0.85      0.85      0.85       110\n",
      "           1       0.75      0.75      0.75        68\n",
      "\n",
      "    accuracy                           0.81       178\n",
      "   macro avg       0.80      0.80      0.80       178\n",
      "weighted avg       0.81      0.81      0.81       178\n",
      "\n",
      "Training Accuracy: 0.7890295358649789\n",
      "Testing Accuracy: 0.8089887640449438\n",
      "\n",
      "SVC Score\n",
      "Accuracy: 0.6797752808988764\n",
      "[[100  10]\n",
      " [ 47  21]]\n",
      "              precision    recall  f1-score   support\n",
      "\n",
      "           0       0.68      0.91      0.78       110\n",
      "           1       0.68      0.31      0.42        68\n",
      "\n",
      "    accuracy                           0.68       178\n",
      "   macro avg       0.68      0.61      0.60       178\n",
      "weighted avg       0.68      0.68      0.64       178\n",
      "\n",
      "Training Accuracy: 0.680731364275668\n",
      "Testing Accuracy: 0.6797752808988764\n"
     ]
    }
   ],
   "source": [
    "from sklearn.metrics import accuracy_score,confusion_matrix,classification_report\n",
    "print('KNN Score')\n",
    "acc=accuracy_score(ytest,knnpred)\n",
    "cm=confusion_matrix(ytest,knnpred)\n",
    "cr=classification_report(ytest,knnpred)\n",
    "tr=knn.score(xtrain,ytrain)\n",
    "te=knn.score(xtest,ytest)\n",
    "print(f'Accuracy: {acc}\\n{cm}\\n{cr}\\nTraining Accuracy: {tr}\\nTesting Accuracy: {te}')\n",
    "print()\n",
    "print('LogisticRegression Score')\n",
    "acc=accuracy_score(ytest,lrpred)\n",
    "cm=confusion_matrix(ytest,lrpred)\n",
    "cr=classification_report(ytest,lrpred)\n",
    "tr=lr.score(xtrain,ytrain)\n",
    "te=lr.score(xtest,ytest)\n",
    "print(f'Accuracy: {acc}\\n{cm}\\n{cr}\\nTraining Accuracy: {tr}\\nTesting Accuracy: {te}')\n",
    "print()\n",
    "print('GaussianNB Score')\n",
    "acc=accuracy_score(ytest,gnbpred)\n",
    "cm=confusion_matrix(ytest,gnbpred)\n",
    "cr=classification_report(ytest,gnbpred)\n",
    "tr=gnb.score(xtrain,ytrain)\n",
    "te=gnb.score(xtest,ytest)\n",
    "print(f'Accuracy: {acc}\\n{cm}\\n{cr}\\nTraining Accuracy: {tr}\\nTesting Accuracy: {te}')\n",
    "print()\n",
    "print('SVC Score')\n",
    "acc=accuracy_score(ytest,svcpred)\n",
    "cm=confusion_matrix(ytest,svcpred)\n",
    "cr=classification_report(ytest,svcpred)\n",
    "tr=svc.score(xtrain,ytrain)\n",
    "te=svc.score(xtest,ytest)\n",
    "print(f'Accuracy: {acc}\\n{cm}\\n{cr}\\nTraining Accuracy: {tr}\\nTesting Accuracy: {te}')\n"
   ]
  },
  {
   "cell_type": "code",
   "execution_count": 21,
   "id": "6af19afa",
   "metadata": {
    "execution": {
     "iopub.execute_input": "2022-12-23T05:04:47.682439Z",
     "iopub.status.busy": "2022-12-23T05:04:47.680921Z",
     "iopub.status.idle": "2022-12-23T05:04:47.687435Z",
     "shell.execute_reply": "2022-12-23T05:04:47.686556Z"
    },
    "papermill": {
     "duration": 0.023443,
     "end_time": "2022-12-23T05:04:47.689768",
     "exception": false,
     "start_time": "2022-12-23T05:04:47.666325",
     "status": "completed"
    },
    "tags": []
   },
   "outputs": [],
   "source": [
    "x=df.iloc[:,1:]\n",
    "y=df.iloc[:,0]"
   ]
  },
  {
   "cell_type": "code",
   "execution_count": 22,
   "id": "12eb2b41",
   "metadata": {
    "execution": {
     "iopub.execute_input": "2022-12-23T05:04:47.717480Z",
     "iopub.status.busy": "2022-12-23T05:04:47.716245Z",
     "iopub.status.idle": "2022-12-23T05:04:47.730437Z",
     "shell.execute_reply": "2022-12-23T05:04:47.728990Z"
    },
    "papermill": {
     "duration": 0.03188,
     "end_time": "2022-12-23T05:04:47.733541",
     "exception": false,
     "start_time": "2022-12-23T05:04:47.701661",
     "status": "completed"
    },
    "tags": []
   },
   "outputs": [],
   "source": [
    "from sklearn.preprocessing import StandardScaler\n",
    "ss=StandardScaler()\n",
    "x.iloc[:,:]=ss.fit_transform(x.iloc[:,:])"
   ]
  },
  {
   "cell_type": "code",
   "execution_count": 23,
   "id": "d18b8260",
   "metadata": {
    "execution": {
     "iopub.execute_input": "2022-12-23T05:04:47.762535Z",
     "iopub.status.busy": "2022-12-23T05:04:47.762010Z",
     "iopub.status.idle": "2022-12-23T05:04:47.774460Z",
     "shell.execute_reply": "2022-12-23T05:04:47.773087Z"
    },
    "papermill": {
     "duration": 0.030522,
     "end_time": "2022-12-23T05:04:47.777217",
     "exception": false,
     "start_time": "2022-12-23T05:04:47.746695",
     "status": "completed"
    },
    "tags": []
   },
   "outputs": [],
   "source": [
    "from sklearn.model_selection import train_test_split\n",
    "xtrain,xtest,ytrain,ytest=train_test_split(x,y,random_state=1,test_size=0.2,stratify=y)"
   ]
  },
  {
   "cell_type": "code",
   "execution_count": 24,
   "id": "37d41fb6",
   "metadata": {
    "execution": {
     "iopub.execute_input": "2022-12-23T05:04:47.805533Z",
     "iopub.status.busy": "2022-12-23T05:04:47.804828Z",
     "iopub.status.idle": "2022-12-23T05:04:47.857352Z",
     "shell.execute_reply": "2022-12-23T05:04:47.856025Z"
    },
    "papermill": {
     "duration": 0.070014,
     "end_time": "2022-12-23T05:04:47.860435",
     "exception": false,
     "start_time": "2022-12-23T05:04:47.790421",
     "status": "completed"
    },
    "tags": []
   },
   "outputs": [],
   "source": [
    "from sklearn.neighbors import KNeighborsClassifier\n",
    "from sklearn.linear_model import LogisticRegression\n",
    "from sklearn.naive_bayes import GaussianNB\n",
    "from sklearn.svm import SVC\n",
    "\n",
    "knn=KNeighborsClassifier()\n",
    "lr=LogisticRegression()\n",
    "gnb=GaussianNB()\n",
    "svc=SVC()\n",
    "\n",
    "knn.fit(xtrain,ytrain)\n",
    "lr.fit(xtrain,ytrain)\n",
    "gnb.fit(xtrain,ytrain)\n",
    "svc.fit(xtrain,ytrain)\n",
    "\n",
    "knnpred=knn.predict(xtest)\n",
    "lrpred=lr.predict(xtest)\n",
    "gnbpred=gnb.predict(xtest)\n",
    "svcpred=svc.predict(xtest)"
   ]
  },
  {
   "cell_type": "code",
   "execution_count": 25,
   "id": "48a2aba2",
   "metadata": {
    "execution": {
     "iopub.execute_input": "2022-12-23T05:04:47.888600Z",
     "iopub.status.busy": "2022-12-23T05:04:47.887246Z",
     "iopub.status.idle": "2022-12-23T05:04:47.985106Z",
     "shell.execute_reply": "2022-12-23T05:04:47.982571Z"
    },
    "papermill": {
     "duration": 0.115679,
     "end_time": "2022-12-23T05:04:47.988549",
     "exception": false,
     "start_time": "2022-12-23T05:04:47.872870",
     "status": "completed"
    },
    "tags": []
   },
   "outputs": [
    {
     "name": "stdout",
     "output_type": "stream",
     "text": [
      "KNN Score\n",
      "Accuracy: 0.8370786516853933\n",
      "[[98 12]\n",
      " [17 51]]\n",
      "              precision    recall  f1-score   support\n",
      "\n",
      "           0       0.85      0.89      0.87       110\n",
      "           1       0.81      0.75      0.78        68\n",
      "\n",
      "    accuracy                           0.84       178\n",
      "   macro avg       0.83      0.82      0.82       178\n",
      "weighted avg       0.84      0.84      0.84       178\n",
      "\n",
      "Training Accuracy: 0.8509142053445851\n",
      "Testing Accuracy: 0.8370786516853933\n",
      "\n",
      "LogisticRegression Score\n",
      "Accuracy: 0.8089887640449438\n",
      "[[94 16]\n",
      " [18 50]]\n",
      "              precision    recall  f1-score   support\n",
      "\n",
      "           0       0.84      0.85      0.85       110\n",
      "           1       0.76      0.74      0.75        68\n",
      "\n",
      "    accuracy                           0.81       178\n",
      "   macro avg       0.80      0.79      0.80       178\n",
      "weighted avg       0.81      0.81      0.81       178\n",
      "\n",
      "Training Accuracy: 0.8016877637130801\n",
      "Testing Accuracy: 0.8089887640449438\n",
      "\n",
      "GaussianNB Score\n",
      "Accuracy: 0.8089887640449438\n",
      "[[93 17]\n",
      " [17 51]]\n",
      "              precision    recall  f1-score   support\n",
      "\n",
      "           0       0.85      0.85      0.85       110\n",
      "           1       0.75      0.75      0.75        68\n",
      "\n",
      "    accuracy                           0.81       178\n",
      "   macro avg       0.80      0.80      0.80       178\n",
      "weighted avg       0.81      0.81      0.81       178\n",
      "\n",
      "Training Accuracy: 0.7890295358649789\n",
      "Testing Accuracy: 0.8089887640449438\n",
      "\n",
      "SVC Score\n",
      "Accuracy: 0.848314606741573\n",
      "[[100  10]\n",
      " [ 17  51]]\n",
      "              precision    recall  f1-score   support\n",
      "\n",
      "           0       0.85      0.91      0.88       110\n",
      "           1       0.84      0.75      0.79        68\n",
      "\n",
      "    accuracy                           0.85       178\n",
      "   macro avg       0.85      0.83      0.84       178\n",
      "weighted avg       0.85      0.85      0.85       178\n",
      "\n",
      "Training Accuracy: 0.829817158931083\n",
      "Testing Accuracy: 0.848314606741573\n"
     ]
    }
   ],
   "source": [
    "from sklearn.metrics import accuracy_score,confusion_matrix,classification_report\n",
    "print('KNN Score')\n",
    "acc=accuracy_score(ytest,knnpred)\n",
    "cm=confusion_matrix(ytest,knnpred)\n",
    "cr=classification_report(ytest,knnpred)\n",
    "tr=knn.score(xtrain,ytrain)\n",
    "te=knn.score(xtest,ytest)\n",
    "print(f'Accuracy: {acc}\\n{cm}\\n{cr}\\nTraining Accuracy: {tr}\\nTesting Accuracy: {te}')\n",
    "print()\n",
    "print('LogisticRegression Score')\n",
    "acc=accuracy_score(ytest,lrpred)\n",
    "cm=confusion_matrix(ytest,lrpred)\n",
    "cr=classification_report(ytest,lrpred)\n",
    "tr=lr.score(xtrain,ytrain)\n",
    "te=lr.score(xtest,ytest)\n",
    "print(f'Accuracy: {acc}\\n{cm}\\n{cr}\\nTraining Accuracy: {tr}\\nTesting Accuracy: {te}')\n",
    "print()\n",
    "print('GaussianNB Score')\n",
    "acc=accuracy_score(ytest,gnbpred)\n",
    "cm=confusion_matrix(ytest,gnbpred)\n",
    "cr=classification_report(ytest,gnbpred)\n",
    "tr=gnb.score(xtrain,ytrain)\n",
    "te=gnb.score(xtest,ytest)\n",
    "print(f'Accuracy: {acc}\\n{cm}\\n{cr}\\nTraining Accuracy: {tr}\\nTesting Accuracy: {te}')\n",
    "print()\n",
    "print('SVC Score')\n",
    "acc=accuracy_score(ytest,svcpred)\n",
    "cm=confusion_matrix(ytest,svcpred)\n",
    "cr=classification_report(ytest,svcpred)\n",
    "tr=svc.score(xtrain,ytrain)\n",
    "te=svc.score(xtest,ytest)\n",
    "print(f'Accuracy: {acc}\\n{cm}\\n{cr}\\nTraining Accuracy: {tr}\\nTesting Accuracy: {te}')"
   ]
  },
  {
   "cell_type": "markdown",
   "id": "20b6a09c",
   "metadata": {
    "papermill": {
     "duration": 0.013608,
     "end_time": "2022-12-23T05:04:48.014862",
     "exception": false,
     "start_time": "2022-12-23T05:04:48.001254",
     "status": "completed"
    },
    "tags": []
   },
   "source": [
    "# KNN and SVC is giving the best accuracy with least False Negative errors"
   ]
  },
  {
   "cell_type": "code",
   "execution_count": 26,
   "id": "c3c94714",
   "metadata": {
    "execution": {
     "iopub.execute_input": "2022-12-23T05:04:48.041624Z",
     "iopub.status.busy": "2022-12-23T05:04:48.041191Z",
     "iopub.status.idle": "2022-12-23T05:04:48.056089Z",
     "shell.execute_reply": "2022-12-23T05:04:48.054615Z"
    },
    "papermill": {
     "duration": 0.031701,
     "end_time": "2022-12-23T05:04:48.059136",
     "exception": false,
     "start_time": "2022-12-23T05:04:48.027435",
     "status": "completed"
    },
    "tags": []
   },
   "outputs": [],
   "source": [
    "df=pd.read_csv('/kaggle/input/titanic/test.csv')"
   ]
  },
  {
   "cell_type": "code",
   "execution_count": 27,
   "id": "219fdfdd",
   "metadata": {
    "execution": {
     "iopub.execute_input": "2022-12-23T05:04:48.085985Z",
     "iopub.status.busy": "2022-12-23T05:04:48.085552Z",
     "iopub.status.idle": "2022-12-23T05:04:48.104158Z",
     "shell.execute_reply": "2022-12-23T05:04:48.102873Z"
    },
    "papermill": {
     "duration": 0.034992,
     "end_time": "2022-12-23T05:04:48.106744",
     "exception": false,
     "start_time": "2022-12-23T05:04:48.071752",
     "status": "completed"
    },
    "tags": []
   },
   "outputs": [
    {
     "data": {
      "text/html": [
       "<div>\n",
       "<style scoped>\n",
       "    .dataframe tbody tr th:only-of-type {\n",
       "        vertical-align: middle;\n",
       "    }\n",
       "\n",
       "    .dataframe tbody tr th {\n",
       "        vertical-align: top;\n",
       "    }\n",
       "\n",
       "    .dataframe thead th {\n",
       "        text-align: right;\n",
       "    }\n",
       "</style>\n",
       "<table border=\"1\" class=\"dataframe\">\n",
       "  <thead>\n",
       "    <tr style=\"text-align: right;\">\n",
       "      <th></th>\n",
       "      <th>PassengerId</th>\n",
       "      <th>Pclass</th>\n",
       "      <th>Name</th>\n",
       "      <th>Sex</th>\n",
       "      <th>Age</th>\n",
       "      <th>SibSp</th>\n",
       "      <th>Parch</th>\n",
       "      <th>Ticket</th>\n",
       "      <th>Fare</th>\n",
       "      <th>Cabin</th>\n",
       "      <th>Embarked</th>\n",
       "    </tr>\n",
       "  </thead>\n",
       "  <tbody>\n",
       "    <tr>\n",
       "      <th>0</th>\n",
       "      <td>892</td>\n",
       "      <td>3</td>\n",
       "      <td>Kelly, Mr. James</td>\n",
       "      <td>male</td>\n",
       "      <td>34.5</td>\n",
       "      <td>0</td>\n",
       "      <td>0</td>\n",
       "      <td>330911</td>\n",
       "      <td>7.8292</td>\n",
       "      <td>NaN</td>\n",
       "      <td>Q</td>\n",
       "    </tr>\n",
       "    <tr>\n",
       "      <th>1</th>\n",
       "      <td>893</td>\n",
       "      <td>3</td>\n",
       "      <td>Wilkes, Mrs. James (Ellen Needs)</td>\n",
       "      <td>female</td>\n",
       "      <td>47.0</td>\n",
       "      <td>1</td>\n",
       "      <td>0</td>\n",
       "      <td>363272</td>\n",
       "      <td>7.0000</td>\n",
       "      <td>NaN</td>\n",
       "      <td>S</td>\n",
       "    </tr>\n",
       "    <tr>\n",
       "      <th>2</th>\n",
       "      <td>894</td>\n",
       "      <td>2</td>\n",
       "      <td>Myles, Mr. Thomas Francis</td>\n",
       "      <td>male</td>\n",
       "      <td>62.0</td>\n",
       "      <td>0</td>\n",
       "      <td>0</td>\n",
       "      <td>240276</td>\n",
       "      <td>9.6875</td>\n",
       "      <td>NaN</td>\n",
       "      <td>Q</td>\n",
       "    </tr>\n",
       "    <tr>\n",
       "      <th>3</th>\n",
       "      <td>895</td>\n",
       "      <td>3</td>\n",
       "      <td>Wirz, Mr. Albert</td>\n",
       "      <td>male</td>\n",
       "      <td>27.0</td>\n",
       "      <td>0</td>\n",
       "      <td>0</td>\n",
       "      <td>315154</td>\n",
       "      <td>8.6625</td>\n",
       "      <td>NaN</td>\n",
       "      <td>S</td>\n",
       "    </tr>\n",
       "    <tr>\n",
       "      <th>4</th>\n",
       "      <td>896</td>\n",
       "      <td>3</td>\n",
       "      <td>Hirvonen, Mrs. Alexander (Helga E Lindqvist)</td>\n",
       "      <td>female</td>\n",
       "      <td>22.0</td>\n",
       "      <td>1</td>\n",
       "      <td>1</td>\n",
       "      <td>3101298</td>\n",
       "      <td>12.2875</td>\n",
       "      <td>NaN</td>\n",
       "      <td>S</td>\n",
       "    </tr>\n",
       "  </tbody>\n",
       "</table>\n",
       "</div>"
      ],
      "text/plain": [
       "   PassengerId  Pclass                                          Name     Sex  \\\n",
       "0          892       3                              Kelly, Mr. James    male   \n",
       "1          893       3              Wilkes, Mrs. James (Ellen Needs)  female   \n",
       "2          894       2                     Myles, Mr. Thomas Francis    male   \n",
       "3          895       3                              Wirz, Mr. Albert    male   \n",
       "4          896       3  Hirvonen, Mrs. Alexander (Helga E Lindqvist)  female   \n",
       "\n",
       "    Age  SibSp  Parch   Ticket     Fare Cabin Embarked  \n",
       "0  34.5      0      0   330911   7.8292   NaN        Q  \n",
       "1  47.0      1      0   363272   7.0000   NaN        S  \n",
       "2  62.0      0      0   240276   9.6875   NaN        Q  \n",
       "3  27.0      0      0   315154   8.6625   NaN        S  \n",
       "4  22.0      1      1  3101298  12.2875   NaN        S  "
      ]
     },
     "execution_count": 27,
     "metadata": {},
     "output_type": "execute_result"
    }
   ],
   "source": [
    "df.head()"
   ]
  },
  {
   "cell_type": "code",
   "execution_count": 28,
   "id": "2ac71d2b",
   "metadata": {
    "execution": {
     "iopub.execute_input": "2022-12-23T05:04:48.135008Z",
     "iopub.status.busy": "2022-12-23T05:04:48.134613Z",
     "iopub.status.idle": "2022-12-23T05:04:48.142054Z",
     "shell.execute_reply": "2022-12-23T05:04:48.140806Z"
    },
    "papermill": {
     "duration": 0.024946,
     "end_time": "2022-12-23T05:04:48.144431",
     "exception": false,
     "start_time": "2022-12-23T05:04:48.119485",
     "status": "completed"
    },
    "tags": []
   },
   "outputs": [],
   "source": [
    "df.drop(['PassengerId','Name','Ticket','Cabin'],axis=1,inplace=True)"
   ]
  },
  {
   "cell_type": "code",
   "execution_count": 29,
   "id": "484d5e27",
   "metadata": {
    "execution": {
     "iopub.execute_input": "2022-12-23T05:04:48.171756Z",
     "iopub.status.busy": "2022-12-23T05:04:48.171270Z",
     "iopub.status.idle": "2022-12-23T05:04:48.182727Z",
     "shell.execute_reply": "2022-12-23T05:04:48.181387Z"
    },
    "papermill": {
     "duration": 0.029016,
     "end_time": "2022-12-23T05:04:48.186072",
     "exception": false,
     "start_time": "2022-12-23T05:04:48.157056",
     "status": "completed"
    },
    "tags": []
   },
   "outputs": [
    {
     "data": {
      "text/plain": [
       "Pclass       0\n",
       "Sex          0\n",
       "Age         86\n",
       "SibSp        0\n",
       "Parch        0\n",
       "Fare         1\n",
       "Embarked     0\n",
       "dtype: int64"
      ]
     },
     "execution_count": 29,
     "metadata": {},
     "output_type": "execute_result"
    }
   ],
   "source": [
    "df.isnull().sum()"
   ]
  },
  {
   "cell_type": "code",
   "execution_count": 30,
   "id": "8883e7b5",
   "metadata": {
    "execution": {
     "iopub.execute_input": "2022-12-23T05:04:48.214698Z",
     "iopub.status.busy": "2022-12-23T05:04:48.214226Z",
     "iopub.status.idle": "2022-12-23T05:04:48.222234Z",
     "shell.execute_reply": "2022-12-23T05:04:48.221049Z"
    },
    "papermill": {
     "duration": 0.025476,
     "end_time": "2022-12-23T05:04:48.224857",
     "exception": false,
     "start_time": "2022-12-23T05:04:48.199381",
     "status": "completed"
    },
    "tags": []
   },
   "outputs": [],
   "source": [
    "df['Age']=df['Age'].fillna(df.groupby('Pclass')['Age'].transform('mean'))"
   ]
  },
  {
   "cell_type": "code",
   "execution_count": 31,
   "id": "2836081a",
   "metadata": {
    "execution": {
     "iopub.execute_input": "2022-12-23T05:04:48.253877Z",
     "iopub.status.busy": "2022-12-23T05:04:48.253421Z",
     "iopub.status.idle": "2022-12-23T05:04:48.270378Z",
     "shell.execute_reply": "2022-12-23T05:04:48.268424Z"
    },
    "papermill": {
     "duration": 0.035034,
     "end_time": "2022-12-23T05:04:48.273176",
     "exception": false,
     "start_time": "2022-12-23T05:04:48.238142",
     "status": "completed"
    },
    "tags": []
   },
   "outputs": [
    {
     "name": "stdout",
     "output_type": "stream",
     "text": [
      "<class 'pandas.core.frame.DataFrame'>\n",
      "RangeIndex: 418 entries, 0 to 417\n",
      "Data columns (total 7 columns):\n",
      " #   Column    Non-Null Count  Dtype  \n",
      "---  ------    --------------  -----  \n",
      " 0   Pclass    418 non-null    int64  \n",
      " 1   Sex       418 non-null    object \n",
      " 2   Age       418 non-null    float64\n",
      " 3   SibSp     418 non-null    int64  \n",
      " 4   Parch     418 non-null    int64  \n",
      " 5   Fare      417 non-null    float64\n",
      " 6   Embarked  418 non-null    object \n",
      "dtypes: float64(2), int64(3), object(2)\n",
      "memory usage: 23.0+ KB\n"
     ]
    }
   ],
   "source": [
    "df.info()"
   ]
  },
  {
   "cell_type": "code",
   "execution_count": 32,
   "id": "ffd710ed",
   "metadata": {
    "execution": {
     "iopub.execute_input": "2022-12-23T05:04:48.300638Z",
     "iopub.status.busy": "2022-12-23T05:04:48.300199Z",
     "iopub.status.idle": "2022-12-23T05:04:48.306574Z",
     "shell.execute_reply": "2022-12-23T05:04:48.305412Z"
    },
    "papermill": {
     "duration": 0.022896,
     "end_time": "2022-12-23T05:04:48.309073",
     "exception": false,
     "start_time": "2022-12-23T05:04:48.286177",
     "status": "completed"
    },
    "tags": []
   },
   "outputs": [],
   "source": [
    "df['Fare'].fillna(df['Fare'].mean(),inplace=True)"
   ]
  },
  {
   "cell_type": "code",
   "execution_count": 33,
   "id": "61e5d5c6",
   "metadata": {
    "execution": {
     "iopub.execute_input": "2022-12-23T05:04:48.336687Z",
     "iopub.status.busy": "2022-12-23T05:04:48.336238Z",
     "iopub.status.idle": "2022-12-23T05:04:48.356256Z",
     "shell.execute_reply": "2022-12-23T05:04:48.354888Z"
    },
    "papermill": {
     "duration": 0.03656,
     "end_time": "2022-12-23T05:04:48.358625",
     "exception": false,
     "start_time": "2022-12-23T05:04:48.322065",
     "status": "completed"
    },
    "tags": []
   },
   "outputs": [
    {
     "data": {
      "text/html": [
       "<div>\n",
       "<style scoped>\n",
       "    .dataframe tbody tr th:only-of-type {\n",
       "        vertical-align: middle;\n",
       "    }\n",
       "\n",
       "    .dataframe tbody tr th {\n",
       "        vertical-align: top;\n",
       "    }\n",
       "\n",
       "    .dataframe thead th {\n",
       "        text-align: right;\n",
       "    }\n",
       "</style>\n",
       "<table border=\"1\" class=\"dataframe\">\n",
       "  <thead>\n",
       "    <tr style=\"text-align: right;\">\n",
       "      <th></th>\n",
       "      <th>Pclass</th>\n",
       "      <th>Sex</th>\n",
       "      <th>Age</th>\n",
       "      <th>SibSp</th>\n",
       "      <th>Parch</th>\n",
       "      <th>Fare</th>\n",
       "      <th>Embarked</th>\n",
       "    </tr>\n",
       "  </thead>\n",
       "  <tbody>\n",
       "    <tr>\n",
       "      <th>0</th>\n",
       "      <td>3</td>\n",
       "      <td>1.0</td>\n",
       "      <td>34.5</td>\n",
       "      <td>0</td>\n",
       "      <td>0</td>\n",
       "      <td>7.8292</td>\n",
       "      <td>1.0</td>\n",
       "    </tr>\n",
       "    <tr>\n",
       "      <th>1</th>\n",
       "      <td>3</td>\n",
       "      <td>0.0</td>\n",
       "      <td>47.0</td>\n",
       "      <td>1</td>\n",
       "      <td>0</td>\n",
       "      <td>7.0000</td>\n",
       "      <td>2.0</td>\n",
       "    </tr>\n",
       "    <tr>\n",
       "      <th>2</th>\n",
       "      <td>2</td>\n",
       "      <td>1.0</td>\n",
       "      <td>62.0</td>\n",
       "      <td>0</td>\n",
       "      <td>0</td>\n",
       "      <td>9.6875</td>\n",
       "      <td>1.0</td>\n",
       "    </tr>\n",
       "    <tr>\n",
       "      <th>3</th>\n",
       "      <td>3</td>\n",
       "      <td>1.0</td>\n",
       "      <td>27.0</td>\n",
       "      <td>0</td>\n",
       "      <td>0</td>\n",
       "      <td>8.6625</td>\n",
       "      <td>2.0</td>\n",
       "    </tr>\n",
       "    <tr>\n",
       "      <th>4</th>\n",
       "      <td>3</td>\n",
       "      <td>0.0</td>\n",
       "      <td>22.0</td>\n",
       "      <td>1</td>\n",
       "      <td>1</td>\n",
       "      <td>12.2875</td>\n",
       "      <td>2.0</td>\n",
       "    </tr>\n",
       "  </tbody>\n",
       "</table>\n",
       "</div>"
      ],
      "text/plain": [
       "   Pclass  Sex   Age  SibSp  Parch     Fare  Embarked\n",
       "0       3  1.0  34.5      0      0   7.8292       1.0\n",
       "1       3  0.0  47.0      1      0   7.0000       2.0\n",
       "2       2  1.0  62.0      0      0   9.6875       1.0\n",
       "3       3  1.0  27.0      0      0   8.6625       2.0\n",
       "4       3  0.0  22.0      1      1  12.2875       2.0"
      ]
     },
     "execution_count": 33,
     "metadata": {},
     "output_type": "execute_result"
    }
   ],
   "source": [
    "from sklearn.preprocessing import OrdinalEncoder\n",
    "oe=OrdinalEncoder()\n",
    "df[['Sex','Embarked']]=oe.fit_transform(df[['Sex','Embarked']])\n",
    "df.head()"
   ]
  },
  {
   "cell_type": "code",
   "execution_count": 34,
   "id": "7204e09e",
   "metadata": {
    "execution": {
     "iopub.execute_input": "2022-12-23T05:04:48.386074Z",
     "iopub.status.busy": "2022-12-23T05:04:48.385664Z",
     "iopub.status.idle": "2022-12-23T05:04:48.394221Z",
     "shell.execute_reply": "2022-12-23T05:04:48.393108Z"
    },
    "papermill": {
     "duration": 0.025171,
     "end_time": "2022-12-23T05:04:48.396792",
     "exception": false,
     "start_time": "2022-12-23T05:04:48.371621",
     "status": "completed"
    },
    "tags": []
   },
   "outputs": [],
   "source": [
    "df['Family']=df['SibSp']+df['Parch']\n",
    "df.drop(['SibSp','Parch'],axis=1,inplace=True)"
   ]
  },
  {
   "cell_type": "code",
   "execution_count": 35,
   "id": "b6b70e1c",
   "metadata": {
    "execution": {
     "iopub.execute_input": "2022-12-23T05:04:48.424830Z",
     "iopub.status.busy": "2022-12-23T05:04:48.424408Z",
     "iopub.status.idle": "2022-12-23T05:04:48.446078Z",
     "shell.execute_reply": "2022-12-23T05:04:48.444602Z"
    },
    "papermill": {
     "duration": 0.039051,
     "end_time": "2022-12-23T05:04:48.449028",
     "exception": false,
     "start_time": "2022-12-23T05:04:48.409977",
     "status": "completed"
    },
    "tags": []
   },
   "outputs": [],
   "source": [
    "knnpred=knn.predict(df)"
   ]
  },
  {
   "cell_type": "code",
   "execution_count": 36,
   "id": "9b7d7ecf",
   "metadata": {
    "execution": {
     "iopub.execute_input": "2022-12-23T05:04:48.478923Z",
     "iopub.status.busy": "2022-12-23T05:04:48.478512Z",
     "iopub.status.idle": "2022-12-23T05:04:48.486760Z",
     "shell.execute_reply": "2022-12-23T05:04:48.485481Z"
    },
    "papermill": {
     "duration": 0.02733,
     "end_time": "2022-12-23T05:04:48.490084",
     "exception": false,
     "start_time": "2022-12-23T05:04:48.462754",
     "status": "completed"
    },
    "tags": []
   },
   "outputs": [
    {
     "data": {
      "text/plain": [
       "array([0, 0, 0, 0, 1, 1, 0, 1, 0, 1, 0, 1, 1, 0, 1, 1, 0, 0, 0, 0, 1, 0,\n",
       "       1, 1, 1, 0, 1, 0, 1, 1, 1, 1, 1, 1, 1, 0, 0, 0, 0, 1, 0, 1, 0, 0,\n",
       "       1, 0, 1, 0, 1, 1, 1, 1, 1, 1, 1, 1, 0, 0, 1, 1, 0, 0, 0, 0, 1, 1,\n",
       "       0, 1, 1, 1, 0, 0, 0, 1, 1, 1, 0, 1, 0, 0, 1, 1, 1, 0, 0, 1, 0, 0,\n",
       "       0, 1, 1, 0, 1, 0, 1, 0, 1, 0, 0, 0, 1, 1, 0, 0, 1, 1, 0, 0, 0, 1,\n",
       "       0, 0, 1, 0, 1, 1, 0, 1, 1, 1, 1, 0, 1, 0, 0, 1, 0, 1, 0, 0, 0, 1,\n",
       "       1, 0, 0, 0, 0, 1, 0, 1, 1, 1, 1, 1, 1, 1, 1, 0, 1, 1, 1, 0, 1, 0,\n",
       "       1, 0, 1, 0, 1, 1, 0, 1, 1, 0, 0, 1, 1, 1, 1, 0, 0, 0, 1, 0, 1, 1,\n",
       "       1, 1, 1, 1, 0, 1, 1, 0, 1, 0, 1, 0, 1, 0, 1, 1, 1, 0, 1, 0, 1, 0,\n",
       "       0, 0, 1, 1, 1, 1, 0, 1, 0, 0, 1, 0, 1, 0, 1, 1, 0, 1, 0, 1, 1, 0,\n",
       "       1, 0, 1, 0, 1, 1, 0, 0, 0, 0, 1, 1, 0, 0, 1, 0, 1, 0, 1, 1, 1, 1,\n",
       "       1, 0, 1, 1, 1, 1, 1, 1, 1, 0, 1, 0, 0, 0, 0, 0, 1, 0, 1, 0, 1, 1,\n",
       "       0, 0, 0, 0, 0, 0, 1, 0, 1, 1, 0, 1, 0, 1, 1, 0, 0, 1, 0, 1, 1, 0,\n",
       "       0, 1, 0, 0, 1, 0, 0, 1, 0, 0, 1, 1, 1, 0, 0, 1, 1, 0, 0, 0, 1, 1,\n",
       "       1, 0, 0, 0, 0, 0, 1, 0, 1, 1, 0, 1, 0, 0, 1, 1, 1, 0, 1, 1, 1, 1,\n",
       "       1, 1, 0, 1, 0, 1, 0, 0, 1, 0, 1, 0, 1, 1, 1, 0, 1, 0, 1, 1, 1, 0,\n",
       "       1, 1, 1, 1, 1, 0, 0, 1, 1, 1, 1, 0, 1, 1, 1, 1, 1, 1, 1, 1, 0, 0,\n",
       "       1, 1, 0, 1, 1, 1, 0, 0, 1, 1, 1, 1, 0, 0, 0, 1, 1, 1, 1, 0, 1, 1,\n",
       "       0, 1, 0, 0, 1, 1, 1, 1, 1, 1, 0, 1, 0, 1, 0, 1, 0, 0, 1, 0, 0, 1])"
      ]
     },
     "execution_count": 36,
     "metadata": {},
     "output_type": "execute_result"
    }
   ],
   "source": [
    "knnpred"
   ]
  },
  {
   "cell_type": "code",
   "execution_count": 37,
   "id": "e10fde83",
   "metadata": {
    "execution": {
     "iopub.execute_input": "2022-12-23T05:04:48.520337Z",
     "iopub.status.busy": "2022-12-23T05:04:48.519886Z",
     "iopub.status.idle": "2022-12-23T05:04:48.530375Z",
     "shell.execute_reply": "2022-12-23T05:04:48.529341Z"
    },
    "papermill": {
     "duration": 0.029101,
     "end_time": "2022-12-23T05:04:48.533458",
     "exception": false,
     "start_time": "2022-12-23T05:04:48.504357",
     "status": "completed"
    },
    "tags": []
   },
   "outputs": [],
   "source": [
    "test=pd.read_csv('/kaggle/input/titanic/test.csv')"
   ]
  },
  {
   "cell_type": "code",
   "execution_count": 38,
   "id": "3425f5c5",
   "metadata": {
    "execution": {
     "iopub.execute_input": "2022-12-23T05:04:48.563738Z",
     "iopub.status.busy": "2022-12-23T05:04:48.563209Z",
     "iopub.status.idle": "2022-12-23T05:04:48.569413Z",
     "shell.execute_reply": "2022-12-23T05:04:48.568430Z"
    },
    "papermill": {
     "duration": 0.023916,
     "end_time": "2022-12-23T05:04:48.571793",
     "exception": false,
     "start_time": "2022-12-23T05:04:48.547877",
     "status": "completed"
    },
    "tags": []
   },
   "outputs": [],
   "source": [
    "PassengerId=test.iloc[:,0]"
   ]
  },
  {
   "cell_type": "code",
   "execution_count": 39,
   "id": "e4b3cc35",
   "metadata": {
    "execution": {
     "iopub.execute_input": "2022-12-23T05:04:48.600990Z",
     "iopub.status.busy": "2022-12-23T05:04:48.600452Z",
     "iopub.status.idle": "2022-12-23T05:04:48.607395Z",
     "shell.execute_reply": "2022-12-23T05:04:48.606431Z"
    },
    "papermill": {
     "duration": 0.024497,
     "end_time": "2022-12-23T05:04:48.609772",
     "exception": false,
     "start_time": "2022-12-23T05:04:48.585275",
     "status": "completed"
    },
    "tags": []
   },
   "outputs": [],
   "source": [
    "submission=pd.DataFrame({'PassengerId':test['PassengerId'],'Survived':knnpred})"
   ]
  },
  {
   "cell_type": "code",
   "execution_count": 40,
   "id": "da534b10",
   "metadata": {
    "execution": {
     "iopub.execute_input": "2022-12-23T05:04:48.638641Z",
     "iopub.status.busy": "2022-12-23T05:04:48.638127Z",
     "iopub.status.idle": "2022-12-23T05:04:48.650178Z",
     "shell.execute_reply": "2022-12-23T05:04:48.648164Z"
    },
    "papermill": {
     "duration": 0.030288,
     "end_time": "2022-12-23T05:04:48.653558",
     "exception": false,
     "start_time": "2022-12-23T05:04:48.623270",
     "status": "completed"
    },
    "tags": []
   },
   "outputs": [
    {
     "name": "stdout",
     "output_type": "stream",
     "text": [
      "Saved File: Titanic Prediction-KNN Model\n"
     ]
    }
   ],
   "source": [
    "filename='Titanic Prediction-KNN Model'\n",
    "submission.to_csv(filename,index=False)\n",
    "\n",
    "print('Saved File: '+filename)"
   ]
  },
  {
   "cell_type": "code",
   "execution_count": null,
   "id": "a74307f2",
   "metadata": {
    "papermill": {
     "duration": 0.012969,
     "end_time": "2022-12-23T05:04:48.680676",
     "exception": false,
     "start_time": "2022-12-23T05:04:48.667707",
     "status": "completed"
    },
    "tags": []
   },
   "outputs": [],
   "source": []
  }
 ],
 "metadata": {
  "kernelspec": {
   "display_name": "Python 3",
   "language": "python",
   "name": "python3"
  },
  "language_info": {
   "codemirror_mode": {
    "name": "ipython",
    "version": 3
   },
   "file_extension": ".py",
   "mimetype": "text/x-python",
   "name": "python",
   "nbconvert_exporter": "python",
   "pygments_lexer": "ipython3",
   "version": "3.7.12"
  },
  "papermill": {
   "default_parameters": {},
   "duration": 14.343751,
   "end_time": "2022-12-23T05:04:49.518756",
   "environment_variables": {},
   "exception": null,
   "input_path": "__notebook__.ipynb",
   "output_path": "__notebook__.ipynb",
   "parameters": {},
   "start_time": "2022-12-23T05:04:35.175005",
   "version": "2.3.4"
  }
 },
 "nbformat": 4,
 "nbformat_minor": 5
}
